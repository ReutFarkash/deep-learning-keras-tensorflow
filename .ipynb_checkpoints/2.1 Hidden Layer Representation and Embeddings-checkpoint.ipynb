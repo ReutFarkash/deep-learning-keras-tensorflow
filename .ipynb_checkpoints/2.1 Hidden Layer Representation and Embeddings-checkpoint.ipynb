{
 "cells": [
  {
   "cell_type": "markdown",
   "metadata": {},
   "source": [
    "# Fully Connected Feed-Forward Network\n",
    "\n",
    "In this notebook we will play with Feed-Forward FC-NN (Fully Connected Neural Network) for a *classification task*: \n",
    "\n",
    "Image Classification on MNIST Dataset\n",
    "\n",
    "**RECALL**\n",
    "\n",
    "In the FC-NN, the output of each layer is computed using the activations from the previous one, as follows:\n",
    "\n",
    "$$h_{i} = \\sigma(W_i h_{i-1} + b_i)$$\n",
    "\n",
    "where ${h}_i$ is the activation vector from the $i$-th layer (or the input data for $i=0$), ${W}_i$ and ${b}_i$ are  the weight matrix and the bias vector for the $i$-th layer, respectively. \n",
    "<br><rb>\n",
    "$\\sigma(\\cdot)$ is the activation function. In our example, we will use the *ReLU* activation function for the hidden layers and *softmax* for the last layer.\n",
    "\n",
    "To regularize the model, we will also insert a Dropout layer between consecutive hidden layers. \n",
    "\n",
    "Dropout works by “dropping out” some unit activations in a given layer, that is setting them to zero with a given probability.\n",
    "\n",
    "Our loss function will be the **categorical crossentropy**."
   ]
  },
  {
   "cell_type": "markdown",
   "metadata": {},
   "source": [
    "## Model definition\n",
    "Keras supports two different kind of models: the [Sequential](http://keras.io/models/#sequential) model and the [Graph](http://keras.io/models/#graph) model. The former is used to build linear stacks of layer (so each layer has one input and one output), and the latter supports any kind of connection graph.\n",
    "\n",
    "In our case we build a Sequential model with three [Dense](http://keras.io/layers/core/#dense) (aka fully connected) layers, with some [Dropout](http://keras.io/layers/core/#dropout). Notice that the output layer has the softmax activation function. \n",
    "\n",
    "The resulting model is actually a `function` of its own inputs implemented using the Keras backend. \n",
    "\n",
    "We apply the binary crossentropy loss and choose SGD as the optimizer. \n",
    "\n",
    "Please remind that Keras supports a variety of different [optimizers](http://keras.io/optimizers/) and [loss functions](http://keras.io/objectives/), which you may want to check out. "
   ]
  },
  {
   "cell_type": "code",
   "execution_count": 1,
   "metadata": {},
   "outputs": [],
   "source": [
    "import numpy as np\n",
    "import matplotlib.pyplot as plt\n",
    "\n",
    "%matplotlib inline"
   ]
  },
  {
   "cell_type": "markdown",
   "metadata": {},
   "source": [
    "## Introducing ReLU"
   ]
  },
  {
   "cell_type": "markdown",
   "metadata": {},
   "source": [
    "The **ReLU** function is defined as $f(x) = \\max(0, x),$ [1]\n",
    "\n",
    "A smooth approximation to the rectifier is the *analytic function*: $f(x) = \\ln(1 + e^x)$\n",
    "\n",
    "which is called the **softplus** function.\n",
    "\n",
    "The derivative of softplus is $f'(x) = e^x / (e^x + 1) = 1 / (1 + e^{-x})$, i.e. the **logistic function**.\n",
    "\n",
    "[1] [http://www.cs.toronto.edu/~fritz/absps/reluICML.pdf]() by G. E. Hinton "
   ]
  },
  {
   "cell_type": "markdown",
   "metadata": {},
   "source": [
    "### Note: Keep in mind this function as it is heavily used in CNN"
   ]
  },
  {
   "cell_type": "markdown",
   "metadata": {
    "collapsed": true
   },
   "source": [
    "from keras.models import Sequential\n",
    "from keras.layers.core import Dense\n",
    "from keras.optimizers import SGD\n",
    "\n",
    "nb_classes = 10\n",
    "\n",
    "# FC@512+relu -> FC@512+relu -> FC@nb_classes+softmax\n",
    "# ... your Code Here\n"
   ]
  },
  {
   "cell_type": "code",
   "execution_count": null,
   "metadata": {},
   "outputs": [],
   "source": [
    "# %load solutions/sol21.py"
   ]
  },
  {
   "cell_type": "code",
   "execution_count": 2,
   "metadata": {},
   "outputs": [
    {
     "name": "stderr",
     "output_type": "stream",
     "text": [
      "/home/reut/anaconda3/lib/python3.6/site-packages/h5py/__init__.py:36: FutureWarning: Conversion of the second argument of issubdtype from `float` to `np.floating` is deprecated. In future, it will be treated as `np.float64 == np.dtype(float).type`.\n",
      "  from ._conv import register_converters as _register_converters\n",
      "Using TensorFlow backend.\n"
     ]
    }
   ],
   "source": [
    "from keras.models import Sequential\n",
    "from keras.layers.core import Dense\n",
    "from keras.optimizers import SGD\n",
    "\n",
    "model = Sequential()\n",
    "model.add(Dense(512, activation='relu', input_shape=(784,)))\n",
    "model.add(Dense(512, activation='relu'))\n",
    "model.add(Dense(10, activation='softmax'))\n",
    "\n",
    "model.compile(loss='categorical_crossentropy', optimizer=SGD(lr=0.001), \n",
    "              metrics=['accuracy'])"
   ]
  },
  {
   "cell_type": "raw",
   "metadata": {},
   "source": [
    "SGD?"
   ]
  },
  {
   "cell_type": "markdown",
   "metadata": {},
   "source": [
    "## Data preparation (`keras.dataset`)\n",
    "\n",
    "We will train our model on the MNIST dataset, which consists of 60,000 28x28 grayscale images of the 10 digits, along with a test set of 10,000 images. \n",
    "\n",
    "![](imgs/mnist.png)\n",
    "\n",
    "Since this dataset is **provided** with Keras, we just ask the `keras.dataset` model for training and test data.\n",
    "\n",
    "We will:\n",
    "\n",
    "* download the data\n",
    "* reshape data to be in vectorial form (original data are images)\n",
    "* normalize between 0 and 1.\n",
    "\n",
    "The `binary_crossentropy` loss expects a **one-hot-vector** as input, therefore we apply the `to_categorical` function from `keras.utilis` to convert integer labels to **one-hot-vectors**."
   ]
  },
  {
   "cell_type": "code",
   "execution_count": 4,
   "metadata": {},
   "outputs": [],
   "source": [
    "from keras.datasets import mnist\n",
    "from keras.utils import np_utils\n",
    "\n",
    "(X_train, y_train), (X_test, y_test) = mnist.load_data()"
   ]
  },
  {
   "cell_type": "code",
   "execution_count": 5,
   "metadata": {},
   "outputs": [
    {
     "data": {
      "text/plain": [
       "(60000, 28, 28)"
      ]
     },
     "execution_count": 5,
     "metadata": {},
     "output_type": "execute_result"
    }
   ],
   "source": [
    "X_train.shape"
   ]
  },
  {
   "cell_type": "code",
   "execution_count": 6,
   "metadata": {},
   "outputs": [],
   "source": [
    "X_train = X_train.reshape(60000, 784)\n",
    "X_test = X_test.reshape(10000, 784)\n",
    "X_train = X_train.astype(\"float32\")\n",
    "X_test = X_test.astype(\"float32\")\n",
    "\n",
    "# Put everything on grayscale\n",
    "X_train /= 255\n",
    "X_test /= 255\n",
    "\n",
    "# convert class vectors to binary class matrices\n",
    "Y_train = np_utils.to_categorical(y_train, 10)\n",
    "Y_test = np_utils.to_categorical(y_test, 10)"
   ]
  },
  {
   "cell_type": "markdown",
   "metadata": {},
   "source": [
    "#### Split Training and Validation Data"
   ]
  },
  {
   "cell_type": "code",
   "execution_count": 7,
   "metadata": {},
   "outputs": [],
   "source": [
    "from sklearn.model_selection import train_test_split\n",
    "\n",
    "X_train, X_val, Y_train, Y_val = train_test_split(X_train, Y_train)"
   ]
  },
  {
   "cell_type": "code",
   "execution_count": 8,
   "metadata": {},
   "outputs": [
    {
     "data": {
      "text/plain": [
       "(784,)"
      ]
     },
     "execution_count": 8,
     "metadata": {},
     "output_type": "execute_result"
    }
   ],
   "source": [
    "X_train[0].shape"
   ]
  },
  {
   "cell_type": "code",
   "execution_count": 9,
   "metadata": {},
   "outputs": [
    {
     "data": {
      "text/plain": [
       "<matplotlib.image.AxesImage at 0x7f75ff8ea6a0>"
      ]
     },
     "execution_count": 9,
     "metadata": {},
     "output_type": "execute_result"
    },
    {
     "data": {
      "image/png": "[encoded data removed]",
      "text/plain": [
       "<matplotlib.figure.Figure at 0x7f760aa97908>"
      ]
     },
     "metadata": {},
     "output_type": "display_data"
    }
   ],
   "source": [
    "plt.imshow(X_train[0].reshape(28, 28))"
   ]
  },
  {
   "cell_type": "code",
   "execution_count": 10,
   "metadata": {},
   "outputs": [
    {
     "name": "stdout",
     "output_type": "stream",
     "text": [
      "[0 1 2 3 4 5 6 7 8 9]\n",
      "[0 0 0 0 0 1 0 0 0 0]\n"
     ]
    }
   ],
   "source": [
    "print(np.asarray(range(10)))\n",
    "print(Y_train[0].astype('int'))"
   ]
  },
  {
   "cell_type": "code",
   "execution_count": 11,
   "metadata": {},
   "outputs": [
    {
     "data": {
      "text/plain": [
       "<matplotlib.image.AxesImage at 0x7f75ff87eb00>"
      ]
     },
     "execution_count": 11,
     "metadata": {},
     "output_type": "execute_result"
    },
    {
     "data": {
      "image/png": "[encoded data removed]",
      "text/plain": [
       "<matplotlib.figure.Figure at 0x7f760aa97390>"
      ]
     },
     "metadata": {},
     "output_type": "display_data"
    }
   ],
   "source": [
    "plt.imshow(X_val[0].reshape(28, 28))"
   ]
  },
  {
   "cell_type": "code",
   "execution_count": 12,
   "metadata": {},
   "outputs": [
    {
     "name": "stdout",
     "output_type": "stream",
     "text": [
      "[0 1 2 3 4 5 6 7 8 9]\n",
      "[0 0 0 0 1 0 0 0 0 0]\n"
     ]
    }
   ],
   "source": [
    "print(np.asarray(range(10)))\n",
    "print(Y_val[0].astype('int'))"
   ]
  },
  {
   "cell_type": "markdown",
   "metadata": {},
   "source": [
    "## Training\n",
    "Having defined and compiled the model, it can be trained using the `fit` function. We also specify a validation dataset to monitor validation loss and accuracy."
   ]
  },
  {
   "cell_type": "code",
   "execution_count": 13,
   "metadata": {
    "scrolled": true
   },
   "outputs": [
    {
     "name": "stdout",
     "output_type": "stream",
     "text": [
      "Train on 45000 samples, validate on 15000 samples\n",
      "Epoch 1/2\n",
      "45000/45000 [==============================] - 6s 129us/step - loss: 2.1875 - acc: 0.2860 - val_loss: 2.0716 - val_acc: 0.4632\n",
      "Epoch 2/2\n",
      "45000/45000 [==============================] - 6s 130us/step - loss: 1.9538 - acc: 0.5628 - val_loss: 1.8379 - val_acc: 0.6338\n"
     ]
    }
   ],
   "source": [
    "network_history = model.fit(X_train, Y_train, batch_size=128, \n",
    "                            epochs=2, verbose=1, validation_data=(X_val, Y_val))"
   ]
  },
  {
   "cell_type": "markdown",
   "metadata": {},
   "source": [
    "### Plotting Network Performance Trend\n",
    "The return value of the `fit` function is a `keras.callbacks.History` object which contains the entire history of training/validation loss and accuracy, for each epoch. We can therefore plot the behaviour of loss and accuracy during the training phase."
   ]
  },
  {
   "cell_type": "code",
   "execution_count": 14,
   "metadata": {},
   "outputs": [
    {
     "data": {
      "image/png": "[encoded data removed]",
      "text/plain": [
       "<matplotlib.figure.Figure at 0x7f762f2aa390>"
      ]
     },
     "metadata": {},
     "output_type": "display_data"
    },
    {
     "data": {
      "image/png": "[encoded data removed]",
      "text/plain": [
       "<matplotlib.figure.Figure at 0x7f75fc5187b8>"
      ]
     },
     "metadata": {},
     "output_type": "display_data"
    }
   ],
   "source": [
    "import matplotlib.pyplot as plt\n",
    "%matplotlib inline\n",
    "\n",
    "def plot_history(network_history):\n",
    "    plt.figure()\n",
    "    plt.xlabel('Epochs')\n",
    "    plt.ylabel('Loss')\n",
    "    plt.plot(network_history.history['loss'])\n",
    "    plt.plot(network_history.history['val_loss'])\n",
    "    plt.legend(['Training', 'Validation'])\n",
    "\n",
    "    plt.figure()\n",
    "    plt.xlabel('Epochs')\n",
    "    plt.ylabel('Accuracy')\n",
    "    plt.plot(network_history.history['acc'])\n",
    "    plt.plot(network_history.history['val_acc'])\n",
    "    plt.legend(['Training', 'Validation'], loc='lower right')\n",
    "    plt.show()\n",
    "\n",
    "plot_history(network_history)"
   ]
  },
  {
   "cell_type": "markdown",
   "metadata": {},
   "source": [
    "After `2` epochs, we get a `~88%` validation accuracy. \n",
    "\n",
    "* If you increase the number of epochs, you will get definitely better results."
   ]
  },
  {
   "cell_type": "markdown",
   "metadata": {},
   "source": [
    "### Quick Exercise: \n",
    "\n",
    "Try increasing the number of epochs (if you're hardware allows to)\n"
   ]
  },
  {
   "cell_type": "code",
   "execution_count": 15,
   "metadata": {},
   "outputs": [
    {
     "name": "stdout",
     "output_type": "stream",
     "text": [
      "Train on 45000 samples, validate on 15000 samples\n",
      "Epoch 1/10\n",
      "45000/45000 [==============================] - 6s 131us/step - loss: 1.7162 - acc: 0.6795 - val_loss: 1.5983 - val_acc: 0.7135\n",
      "Epoch 2/10\n",
      "45000/45000 [==============================] - 6s 132us/step - loss: 1.4799 - acc: 0.7405 - val_loss: 1.3690 - val_acc: 0.7579\n",
      "Epoch 3/10\n",
      "45000/45000 [==============================] - 6s 141us/step - loss: 1.2651 - acc: 0.7747 - val_loss: 1.1713 - val_acc: 0.7849\n",
      "Epoch 4/10\n",
      "45000/45000 [==============================] - 6s 132us/step - loss: 1.0869 - acc: 0.7971 - val_loss: 1.0133 - val_acc: 0.8045\n",
      "Epoch 5/10\n",
      "45000/45000 [==============================] - 5s 118us/step - loss: 0.9474 - acc: 0.8151 - val_loss: 0.8923 - val_acc: 0.8182\n",
      "Epoch 6/10\n",
      "45000/45000 [==============================] - 5s 118us/step - loss: 0.8409 - acc: 0.8270 - val_loss: 0.8003 - val_acc: 0.8286\n",
      "Epoch 7/10\n",
      "45000/45000 [==============================] - 7s 149us/step - loss: 0.7596 - acc: 0.8365 - val_loss: 0.7295 - val_acc: 0.8387\n",
      "Epoch 8/10\n",
      "45000/45000 [==============================] - 6s 134us/step - loss: 0.6967 - acc: 0.8446 - val_loss: 0.6747 - val_acc: 0.8445\n",
      "Epoch 9/10\n",
      "45000/45000 [==============================] - 6s 130us/step - loss: 0.6470 - acc: 0.8507 - val_loss: 0.6309 - val_acc: 0.8520\n",
      "Epoch 10/10\n",
      "45000/45000 [==============================] - 6s 129us/step - loss: 0.6069 - acc: 0.8564 - val_loss: 0.5951 - val_acc: 0.8587\n"
     ]
    }
   ],
   "source": [
    "# Your code here\n",
    "model.compile(loss='categorical_crossentropy', optimizer=SGD(lr=0.001), \n",
    "              metrics=['accuracy'])\n",
    "network_history = model.fit(X_train, Y_train, batch_size=128, \n",
    "                            epochs=10, verbose=1, validation_data=(X_val, Y_val))"
   ]
  },
  {
   "cell_type": "code",
   "execution_count": 16,
   "metadata": {},
   "outputs": [
    {
     "data": {
      "image/png": "[encoded data removed]",
      "text/plain": [
       "<matplotlib.figure.Figure at 0x7f75fc4c60b8>"
      ]
     },
     "metadata": {},
     "output_type": "display_data"
    },
    {
     "data": {
      "image/png": "[encoded data removed]",
      "text/plain": [
       "<matplotlib.figure.Figure at 0x7f75ce3886d8>"
      ]
     },
     "metadata": {},
     "output_type": "display_data"
    }
   ],
   "source": [
    "plot_history(network_history)"
   ]
  },
  {
   "cell_type": "markdown",
   "metadata": {},
   "source": [
    "## Introducing the Dropout Layer"
   ]
  },
  {
   "cell_type": "markdown",
   "metadata": {},
   "source": [
    "The **dropout layers** have the very specific function to *drop out* a random set of activations in that layers by setting them to zero in the forward pass. Simple as that. \n",
    "\n",
    "It allows to avoid *overfitting* but has to be used **only** at training time and **not** at test time. "
   ]
  },
  {
   "cell_type": "markdown",
   "metadata": {},
   "source": [
    "```python\n",
    "\n",
    "keras.layers.core.Dropout(rate, noise_shape=None, seed=None)\n",
    "```\n",
    "\n",
    "Applies Dropout to the input.\n",
    "\n",
    "Dropout consists in randomly setting a fraction rate of input units to 0 at each update during training time, which helps prevent overfitting.\n",
    "\n",
    "Arguments\n",
    "\n",
    "* rate: float between 0 and 1. Fraction of the input units to drop.\n",
    "* noise_shape: 1D integer tensor representing the shape of the binary dropout mask that will be multiplied with the input. For instance, if your inputs have shape  (batch_size, timesteps, features) and you want the dropout mask to be the same for all timesteps, you can use noise_shape=(batch_size, 1, features).\n",
    "* seed: A Python integer to use as random seed."
   ]
  },
  {
   "cell_type": "markdown",
   "metadata": {},
   "source": [
    "**Note** Keras guarantess automatically that this layer is **not** used in **Inference** (i.e. Prediction) phase\n",
    "(thus only used in **training** as it should be!)\n",
    "\n",
    "See `keras.backend.in_train_phase` function"
   ]
  },
  {
   "cell_type": "code",
   "execution_count": 17,
   "metadata": {},
   "outputs": [],
   "source": [
    "from keras.layers.core import Dropout\n",
    "\n",
    "## Pls note **where** the `K.in_train_phase` is actually called!!\n",
    "Dropout??"
   ]
  },
  {
   "cell_type": "code",
   "execution_count": 18,
   "metadata": {},
   "outputs": [],
   "source": [
    "from keras import backend as K\n",
    "\n",
    "K.in_train_phase?"
   ]
  },
  {
   "cell_type": "markdown",
   "metadata": {},
   "source": [
    "### Exercise:\n",
    "\n",
    "Try modifying the previous example network adding a Dropout layer:"
   ]
  },
  {
   "cell_type": "code",
   "execution_count": null,
   "metadata": {},
   "outputs": [],
   "source": [
    "from keras.layers.core import Dropout\n",
    "\n",
    "# FC@512+relu -> DropOut(0.2) -> FC@512+relu -> DropOut(0.2) -> FC@nb_classes+softmax\n",
    "# ... your Code Here"
   ]
  },
  {
   "cell_type": "code",
   "execution_count": null,
   "metadata": {},
   "outputs": [],
   "source": [
    "# %load solutions/sol22.py"
   ]
  },
  {
   "cell_type": "code",
   "execution_count": 19,
   "metadata": {},
   "outputs": [],
   "source": [
    "# %load solutions/sol22.py\n",
    "from keras.models import Sequential\n",
    "from keras.layers.core import Dense, Dropout\n",
    "from keras.optimizers import SGD\n",
    "\n",
    "model = Sequential()\n",
    "model.add(Dense(512, activation='relu', input_shape=(784,)))\n",
    "model.add(Dropout(0.2))\n",
    "model.add(Dense(512, activation='relu'))\n",
    "model.add(Dropout(0.2))\n",
    "model.add(Dense(10, activation='softmax'))\n",
    "\n",
    "model.compile(loss='categorical_crossentropy', optimizer=SGD(), \n",
    "              metrics=['accuracy'])"
   ]
  },
  {
   "cell_type": "code",
   "execution_count": 20,
   "metadata": {},
   "outputs": [
    {
     "name": "stdout",
     "output_type": "stream",
     "text": [
      "Train on 45000 samples, validate on 15000 samples\n",
      "Epoch 1/4\n",
      "45000/45000 [==============================] - 7s 153us/step - loss: 1.3571 - acc: 0.6515 - val_loss: 0.6863 - val_acc: 0.8395\n",
      "Epoch 2/4\n",
      "45000/45000 [==============================] - 7s 148us/step - loss: 0.6121 - acc: 0.8313 - val_loss: 0.4578 - val_acc: 0.8767\n",
      "Epoch 3/4\n",
      "45000/45000 [==============================] - 7s 150us/step - loss: 0.4743 - acc: 0.8633 - val_loss: 0.3889 - val_acc: 0.8904\n",
      "Epoch 4/4\n",
      "45000/45000 [==============================] - 7s 155us/step - loss: 0.4168 - acc: 0.8790 - val_loss: 0.3513 - val_acc: 0.8985\n"
     ]
    },
    {
     "data": {
      "image/png": "[encoded data removed]",
      "text/plain": [
       "<matplotlib.figure.Figure at 0x7f75ce35a048>"
      ]
     },
     "metadata": {},
     "output_type": "display_data"
    },
    {
     "data": {
      "image/png": "[encoded data removed]",
      "text/plain": [
       "<matplotlib.figure.Figure at 0x7f75ce39e828>"
      ]
     },
     "metadata": {},
     "output_type": "display_data"
    }
   ],
   "source": [
    "network_history = model.fit(X_train, Y_train, batch_size=128, \n",
    "                            epochs=4, verbose=1, validation_data=(X_val, Y_val))\n",
    "plot_history(network_history)"
   ]
  },
  {
   "cell_type": "markdown",
   "metadata": {},
   "source": [
    "* If you continue training, at some point the validation loss will start to increase: that is when the model starts to **overfit**. \n",
    "\n",
    "It is always necessary to monitor training and validation loss during the training of any kind of Neural Network, either to detect overfitting or to evaluate the behaviour of the model **(any clue on how to do it??)**"
   ]
  },
  {
   "cell_type": "code",
   "execution_count": 21,
   "metadata": {
    "scrolled": true
   },
   "outputs": [
    {
     "name": "stdout",
     "output_type": "stream",
     "text": [
      "Train on 45000 samples, validate on 10000 samples\n",
      "Epoch 1/100\n",
      "45000/45000 [==============================] - 7s 148us/step - loss: 1.3939 - acc: 0.6401 - val_loss: 0.6724 - val_acc: 0.8475\n",
      "Epoch 2/100\n",
      "45000/45000 [==============================] - 6s 138us/step - loss: 0.6162 - acc: 0.8321 - val_loss: 0.4320 - val_acc: 0.8892\n",
      "Epoch 3/100\n",
      "45000/45000 [==============================] - 6s 140us/step - loss: 0.4761 - acc: 0.8630 - val_loss: 0.3622 - val_acc: 0.9026\n",
      "Epoch 4/100\n",
      "45000/45000 [==============================] - 6s 138us/step - loss: 0.4160 - acc: 0.8795 - val_loss: 0.3267 - val_acc: 0.9108\n",
      "Epoch 5/100\n",
      "45000/45000 [==============================] - 7s 151us/step - loss: 0.3808 - acc: 0.8909 - val_loss: 0.3033 - val_acc: 0.9148\n",
      "Epoch 6/100\n",
      "45000/45000 [==============================] - 7s 153us/step - loss: 0.3510 - acc: 0.8982 - val_loss: 0.2845 - val_acc: 0.9185\n",
      "Epoch 7/100\n",
      "45000/45000 [==============================] - 6s 143us/step - loss: 0.3325 - acc: 0.9041 - val_loss: 0.2706 - val_acc: 0.9232\n",
      "Epoch 8/100\n",
      "45000/45000 [==============================] - 6s 142us/step - loss: 0.3138 - acc: 0.9086 - val_loss: 0.2579 - val_acc: 0.9272\n",
      "Epoch 9/100\n",
      "45000/45000 [==============================] - 6s 142us/step - loss: 0.3014 - acc: 0.9129 - val_loss: 0.2471 - val_acc: 0.9314\n",
      "Epoch 10/100\n",
      "45000/45000 [==============================] - 7s 145us/step - loss: 0.2871 - acc: 0.9179 - val_loss: 0.2387 - val_acc: 0.9332\n",
      "Epoch 11/100\n",
      "45000/45000 [==============================] - 7s 149us/step - loss: 0.2732 - acc: 0.9215 - val_loss: 0.2298 - val_acc: 0.9363\n",
      "Epoch 12/100\n",
      "45000/45000 [==============================] - 6s 143us/step - loss: 0.2630 - acc: 0.9244 - val_loss: 0.2206 - val_acc: 0.9370\n",
      "Epoch 13/100\n",
      "45000/45000 [==============================] - 6s 144us/step - loss: 0.2540 - acc: 0.9266 - val_loss: 0.2127 - val_acc: 0.9399\n",
      "Epoch 14/100\n",
      "45000/45000 [==============================] - 7s 145us/step - loss: 0.2439 - acc: 0.9313 - val_loss: 0.2057 - val_acc: 0.9424\n",
      "Epoch 15/100\n",
      "45000/45000 [==============================] - 6s 144us/step - loss: 0.2352 - acc: 0.9325 - val_loss: 0.1995 - val_acc: 0.9442\n",
      "Epoch 16/100\n",
      "45000/45000 [==============================] - 6s 144us/step - loss: 0.2282 - acc: 0.9353 - val_loss: 0.1941 - val_acc: 0.9447\n",
      "Epoch 17/100\n",
      "45000/45000 [==============================] - 6s 144us/step - loss: 0.2202 - acc: 0.9362 - val_loss: 0.1869 - val_acc: 0.9470\n",
      "Epoch 18/100\n",
      "45000/45000 [==============================] - 6s 144us/step - loss: 0.2136 - acc: 0.9388 - val_loss: 0.1828 - val_acc: 0.9476\n",
      "Epoch 19/100\n",
      "45000/45000 [==============================] - 6s 143us/step - loss: 0.2069 - acc: 0.9407 - val_loss: 0.1774 - val_acc: 0.9502\n",
      "Epoch 20/100\n",
      "45000/45000 [==============================] - 6s 144us/step - loss: 0.2029 - acc: 0.9423 - val_loss: 0.1732 - val_acc: 0.9505\n",
      "Epoch 21/100\n",
      "45000/45000 [==============================] - 6s 143us/step - loss: 0.1963 - acc: 0.9437 - val_loss: 0.1692 - val_acc: 0.9516\n",
      "Epoch 22/100\n",
      "45000/45000 [==============================] - 7s 147us/step - loss: 0.1911 - acc: 0.9444 - val_loss: 0.1653 - val_acc: 0.9531\n",
      "Epoch 23/100\n",
      "45000/45000 [==============================] - 7s 145us/step - loss: 0.1863 - acc: 0.9463 - val_loss: 0.1599 - val_acc: 0.9545\n",
      "Epoch 24/100\n",
      "45000/45000 [==============================] - 7s 145us/step - loss: 0.1807 - acc: 0.9484 - val_loss: 0.1569 - val_acc: 0.9548\n",
      "Epoch 25/100\n",
      "45000/45000 [==============================] - 6s 144us/step - loss: 0.1759 - acc: 0.9496 - val_loss: 0.1538 - val_acc: 0.9548\n",
      "Epoch 26/100\n",
      "45000/45000 [==============================] - 6s 144us/step - loss: 0.1711 - acc: 0.9514 - val_loss: 0.1506 - val_acc: 0.9560\n",
      "Epoch 27/100\n",
      "45000/45000 [==============================] - 7s 145us/step - loss: 0.1675 - acc: 0.9520 - val_loss: 0.1474 - val_acc: 0.9572\n",
      "Epoch 28/100\n",
      "45000/45000 [==============================] - 7s 150us/step - loss: 0.1650 - acc: 0.9530 - val_loss: 0.1442 - val_acc: 0.9572\n",
      "Epoch 29/100\n",
      "45000/45000 [==============================] - 7s 145us/step - loss: 0.1611 - acc: 0.9537 - val_loss: 0.1413 - val_acc: 0.9578\n",
      "Epoch 30/100\n",
      "45000/45000 [==============================] - 7s 145us/step - loss: 0.1569 - acc: 0.9552 - val_loss: 0.1388 - val_acc: 0.9584\n",
      "Epoch 31/100\n",
      "45000/45000 [==============================] - 7s 146us/step - loss: 0.1532 - acc: 0.9560 - val_loss: 0.1365 - val_acc: 0.9587\n",
      "Epoch 32/100\n",
      "45000/45000 [==============================] - 6s 144us/step - loss: 0.1526 - acc: 0.9568 - val_loss: 0.1342 - val_acc: 0.9605\n",
      "Epoch 33/100\n",
      "45000/45000 [==============================] - 7s 149us/step - loss: 0.1461 - acc: 0.9580 - val_loss: 0.1318 - val_acc: 0.9609\n",
      "Epoch 34/100\n",
      "45000/45000 [==============================] - 7s 156us/step - loss: 0.1456 - acc: 0.9591 - val_loss: 0.1305 - val_acc: 0.9614\n",
      "Epoch 35/100\n",
      "45000/45000 [==============================] - 6s 142us/step - loss: 0.1417 - acc: 0.9586 - val_loss: 0.1280 - val_acc: 0.9615\n",
      "Epoch 36/100\n",
      "45000/45000 [==============================] - 6s 143us/step - loss: 0.1395 - acc: 0.9605 - val_loss: 0.1261 - val_acc: 0.9629\n",
      "Epoch 37/100\n",
      "45000/45000 [==============================] - 6s 139us/step - loss: 0.1381 - acc: 0.9598 - val_loss: 0.1250 - val_acc: 0.9629\n",
      "Epoch 38/100\n",
      "45000/45000 [==============================] - 6s 137us/step - loss: 0.1347 - acc: 0.9620 - val_loss: 0.1224 - val_acc: 0.9643\n",
      "Epoch 39/100\n",
      "45000/45000 [==============================] - 6s 138us/step - loss: 0.1321 - acc: 0.9619 - val_loss: 0.1205 - val_acc: 0.9650\n",
      "Epoch 40/100\n",
      "45000/45000 [==============================] - 6s 139us/step - loss: 0.1291 - acc: 0.9627 - val_loss: 0.1193 - val_acc: 0.9654\n",
      "Epoch 41/100\n",
      "45000/45000 [==============================] - 7s 148us/step - loss: 0.1261 - acc: 0.9637 - val_loss: 0.1177 - val_acc: 0.9655\n",
      "Epoch 42/100\n",
      "45000/45000 [==============================] - 7s 156us/step - loss: 0.1277 - acc: 0.9634 - val_loss: 0.1161 - val_acc: 0.9663\n",
      "Epoch 43/100\n",
      "45000/45000 [==============================] - 6s 138us/step - loss: 0.1227 - acc: 0.9654 - val_loss: 0.1149 - val_acc: 0.9660\n",
      "Epoch 44/100\n",
      "45000/45000 [==============================] - 6s 140us/step - loss: 0.1207 - acc: 0.9660 - val_loss: 0.1139 - val_acc: 0.9657\n",
      "Epoch 45/100\n",
      "45000/45000 [==============================] - 6s 138us/step - loss: 0.1186 - acc: 0.9657 - val_loss: 0.1120 - val_acc: 0.9666\n",
      "Epoch 46/100\n",
      "45000/45000 [==============================] - 6s 142us/step - loss: 0.1175 - acc: 0.9658 - val_loss: 0.1109 - val_acc: 0.9664\n",
      "Epoch 47/100\n",
      "45000/45000 [==============================] - 6s 141us/step - loss: 0.1126 - acc: 0.9672 - val_loss: 0.1096 - val_acc: 0.9676\n",
      "Epoch 48/100\n",
      "45000/45000 [==============================] - 6s 140us/step - loss: 0.1115 - acc: 0.9679 - val_loss: 0.1085 - val_acc: 0.9681\n",
      "Epoch 49/100\n",
      "45000/45000 [==============================] - 6s 139us/step - loss: 0.1108 - acc: 0.9674 - val_loss: 0.1077 - val_acc: 0.9680\n",
      "Epoch 50/100\n",
      "45000/45000 [==============================] - 6s 140us/step - loss: 0.1096 - acc: 0.9681 - val_loss: 0.1057 - val_acc: 0.9677\n",
      "Epoch 51/100\n",
      "45000/45000 [==============================] - 6s 141us/step - loss: 0.1092 - acc: 0.9680 - val_loss: 0.1052 - val_acc: 0.9685\n",
      "Epoch 52/100\n",
      "45000/45000 [==============================] - 7s 145us/step - loss: 0.1062 - acc: 0.9696 - val_loss: 0.1043 - val_acc: 0.9689\n",
      "Epoch 53/100\n",
      "45000/45000 [==============================] - 6s 139us/step - loss: 0.1059 - acc: 0.9689 - val_loss: 0.1028 - val_acc: 0.9689\n",
      "Epoch 54/100\n",
      "45000/45000 [==============================] - 6s 142us/step - loss: 0.1037 - acc: 0.9708 - val_loss: 0.1023 - val_acc: 0.9689\n",
      "Epoch 55/100\n",
      "45000/45000 [==============================] - 6s 141us/step - loss: 0.1015 - acc: 0.9708 - val_loss: 0.1011 - val_acc: 0.9696\n",
      "Epoch 56/100\n",
      "45000/45000 [==============================] - 7s 146us/step - loss: 0.1003 - acc: 0.9712 - val_loss: 0.0998 - val_acc: 0.9694\n",
      "Epoch 57/100\n",
      "45000/45000 [==============================] - 6s 141us/step - loss: 0.0995 - acc: 0.9712 - val_loss: 0.0994 - val_acc: 0.9694\n",
      "Epoch 58/100\n",
      "45000/45000 [==============================] - 6s 142us/step - loss: 0.0975 - acc: 0.9720 - val_loss: 0.0988 - val_acc: 0.9700\n",
      "Epoch 59/100\n"
     ]
    },
    {
     "name": "stdout",
     "output_type": "stream",
     "text": [
      "45000/45000 [==============================] - 6s 132us/step - loss: 0.0958 - acc: 0.9722 - val_loss: 0.0976 - val_acc: 0.9704\n",
      "Epoch 60/100\n",
      "45000/45000 [==============================] - 6s 133us/step - loss: 0.0943 - acc: 0.9727 - val_loss: 0.0969 - val_acc: 0.9707\n",
      "Epoch 61/100\n",
      "45000/45000 [==============================] - 6s 131us/step - loss: 0.0940 - acc: 0.9725 - val_loss: 0.0959 - val_acc: 0.9707\n",
      "Epoch 62/100\n",
      "45000/45000 [==============================] - 6s 132us/step - loss: 0.0910 - acc: 0.9738 - val_loss: 0.0954 - val_acc: 0.9707\n",
      "Epoch 63/100\n",
      "45000/45000 [==============================] - 6s 131us/step - loss: 0.0896 - acc: 0.9739 - val_loss: 0.0947 - val_acc: 0.9708\n",
      "Epoch 64/100\n",
      "45000/45000 [==============================] - 6s 133us/step - loss: 0.0900 - acc: 0.9739 - val_loss: 0.0941 - val_acc: 0.9717\n",
      "Epoch 65/100\n",
      "45000/45000 [==============================] - 6s 134us/step - loss: 0.0900 - acc: 0.9731 - val_loss: 0.0933 - val_acc: 0.9716\n",
      "Epoch 66/100\n",
      "45000/45000 [==============================] - 6s 144us/step - loss: 0.0866 - acc: 0.9752 - val_loss: 0.0932 - val_acc: 0.9719\n",
      "Epoch 67/100\n",
      "45000/45000 [==============================] - 6s 132us/step - loss: 0.0861 - acc: 0.9749 - val_loss: 0.0922 - val_acc: 0.9718\n",
      "Epoch 68/100\n",
      "45000/45000 [==============================] - 6s 135us/step - loss: 0.0843 - acc: 0.9754 - val_loss: 0.0915 - val_acc: 0.9723\n",
      "Epoch 69/100\n",
      "45000/45000 [==============================] - 6s 132us/step - loss: 0.0836 - acc: 0.9757 - val_loss: 0.0913 - val_acc: 0.9721\n",
      "Epoch 70/100\n",
      "45000/45000 [==============================] - 6s 133us/step - loss: 0.0841 - acc: 0.9754 - val_loss: 0.0904 - val_acc: 0.9727\n",
      "Epoch 71/100\n",
      "45000/45000 [==============================] - 6s 136us/step - loss: 0.0824 - acc: 0.9762 - val_loss: 0.0901 - val_acc: 0.9725\n",
      "Epoch 72/100\n",
      "45000/45000 [==============================] - 6s 136us/step - loss: 0.0802 - acc: 0.9765 - val_loss: 0.0892 - val_acc: 0.9733\n",
      "Epoch 73/100\n",
      "45000/45000 [==============================] - 6s 134us/step - loss: 0.0808 - acc: 0.9767 - val_loss: 0.0889 - val_acc: 0.9730\n",
      "Epoch 74/100\n",
      "45000/45000 [==============================] - 6s 134us/step - loss: 0.0778 - acc: 0.9778 - val_loss: 0.0882 - val_acc: 0.9731\n",
      "Epoch 75/100\n",
      "45000/45000 [==============================] - 6s 134us/step - loss: 0.0786 - acc: 0.9770 - val_loss: 0.0877 - val_acc: 0.9735\n",
      "Epoch 76/100\n",
      "45000/45000 [==============================] - 6s 138us/step - loss: 0.0771 - acc: 0.9772 - val_loss: 0.0875 - val_acc: 0.9736\n",
      "Epoch 77/100\n",
      "45000/45000 [==============================] - 6s 142us/step - loss: 0.0763 - acc: 0.9782 - val_loss: 0.0869 - val_acc: 0.9735\n",
      "Epoch 78/100\n",
      "45000/45000 [==============================] - 7s 151us/step - loss: 0.0758 - acc: 0.9770 - val_loss: 0.0865 - val_acc: 0.9735\n",
      "Epoch 79/100\n",
      "45000/45000 [==============================] - 6s 140us/step - loss: 0.0751 - acc: 0.9782 - val_loss: 0.0855 - val_acc: 0.9735\n",
      "Epoch 80/100\n",
      "45000/45000 [==============================] - 6s 140us/step - loss: 0.0734 - acc: 0.9788 - val_loss: 0.0853 - val_acc: 0.9737\n",
      "Epoch 81/100\n",
      "45000/45000 [==============================] - 7s 145us/step - loss: 0.0735 - acc: 0.9791 - val_loss: 0.0851 - val_acc: 0.9737\n",
      "Epoch 82/100\n",
      "45000/45000 [==============================] - 6s 139us/step - loss: 0.0713 - acc: 0.9790 - val_loss: 0.0839 - val_acc: 0.9743\n",
      "Epoch 83/100\n",
      "45000/45000 [==============================] - 6s 139us/step - loss: 0.0709 - acc: 0.9789 - val_loss: 0.0836 - val_acc: 0.9742\n",
      "Epoch 84/100\n",
      "45000/45000 [==============================] - 6s 138us/step - loss: 0.0708 - acc: 0.9789 - val_loss: 0.0836 - val_acc: 0.9743\n",
      "Epoch 85/100\n",
      "45000/45000 [==============================] - 6s 138us/step - loss: 0.0692 - acc: 0.9799 - val_loss: 0.0830 - val_acc: 0.9743\n",
      "Epoch 86/100\n",
      "45000/45000 [==============================] - 6s 138us/step - loss: 0.0686 - acc: 0.9802 - val_loss: 0.0830 - val_acc: 0.9739\n",
      "Epoch 87/100\n",
      "45000/45000 [==============================] - 6s 137us/step - loss: 0.0663 - acc: 0.9810 - val_loss: 0.0827 - val_acc: 0.9749\n",
      "Epoch 88/100\n",
      "45000/45000 [==============================] - 6s 138us/step - loss: 0.0672 - acc: 0.9805 - val_loss: 0.0822 - val_acc: 0.9742\n",
      "Epoch 89/100\n",
      "45000/45000 [==============================] - 6s 137us/step - loss: 0.0672 - acc: 0.9801 - val_loss: 0.0815 - val_acc: 0.9746\n",
      "Epoch 90/100\n",
      "45000/45000 [==============================] - 6s 142us/step - loss: 0.0647 - acc: 0.9809 - val_loss: 0.0818 - val_acc: 0.9746\n",
      "Epoch 91/100\n",
      "45000/45000 [==============================] - 6s 139us/step - loss: 0.0637 - acc: 0.9817 - val_loss: 0.0816 - val_acc: 0.9751\n",
      "Epoch 92/100\n",
      "45000/45000 [==============================] - 7s 165us/step - loss: 0.0640 - acc: 0.9816 - val_loss: 0.0808 - val_acc: 0.9747\n",
      "Epoch 93/100\n",
      "45000/45000 [==============================] - 6s 144us/step - loss: 0.0638 - acc: 0.9811 - val_loss: 0.0806 - val_acc: 0.9745\n",
      "Epoch 94/100\n",
      "45000/45000 [==============================] - 7s 153us/step - loss: 0.0633 - acc: 0.9815 - val_loss: 0.0802 - val_acc: 0.9742\n",
      "Epoch 95/100\n",
      "45000/45000 [==============================] - 7s 148us/step - loss: 0.0628 - acc: 0.9817 - val_loss: 0.0801 - val_acc: 0.9742\n",
      "Epoch 96/100\n",
      "45000/45000 [==============================] - 6s 144us/step - loss: 0.0613 - acc: 0.9821 - val_loss: 0.0794 - val_acc: 0.9750\n",
      "Epoch 97/100\n",
      "45000/45000 [==============================] - 6s 143us/step - loss: 0.0599 - acc: 0.9826 - val_loss: 0.0792 - val_acc: 0.9754\n",
      "Epoch 98/100\n",
      "45000/45000 [==============================] - 7s 146us/step - loss: 0.0607 - acc: 0.9819 - val_loss: 0.0793 - val_acc: 0.9752\n",
      "Epoch 99/100\n",
      "45000/45000 [==============================] - 7s 146us/step - loss: 0.0593 - acc: 0.9825 - val_loss: 0.0793 - val_acc: 0.9753\n",
      "Epoch 100/100\n",
      "45000/45000 [==============================] - 7s 145us/step - loss: 0.0590 - acc: 0.9829 - val_loss: 0.0785 - val_acc: 0.9753\n"
     ]
    },
    {
     "data": {
      "text/plain": [
       "<keras.callbacks.History at 0x7f75ce38d7b8>"
      ]
     },
     "execution_count": 21,
     "metadata": {},
     "output_type": "execute_result"
    }
   ],
   "source": [
    "# %load solutions/sol23.py\n",
    "from keras.callbacks import EarlyStopping\n",
    "\n",
    "early_stop = EarlyStopping(monitor='val_loss', patience=4, verbose=1)\n",
    "\n",
    "model = Sequential()\n",
    "model.add(Dense(512, activation='relu', input_shape=(784,)))\n",
    "model.add(Dropout(0.2))\n",
    "model.add(Dense(512, activation='relu'))\n",
    "model.add(Dropout(0.2))\n",
    "model.add(Dense(10, activation='softmax'))\n",
    "\n",
    "model.compile(loss='categorical_crossentropy', optimizer=SGD(), \n",
    "              metrics=['accuracy'])\n",
    "    \n",
    "model.fit(X_train, Y_train, validation_data = (X_test, Y_test), epochs=100, \n",
    "          batch_size=128, verbose=True, callbacks=[early_stop]) "
   ]
  },
  {
   "cell_type": "markdown",
   "metadata": {},
   "source": [
    "---"
   ]
  },
  {
   "cell_type": "markdown",
   "metadata": {},
   "source": [
    "# Inspecting Layers"
   ]
  },
  {
   "cell_type": "code",
   "execution_count": 22,
   "metadata": {},
   "outputs": [
    {
     "name": "stdout",
     "output_type": "stream",
     "text": [
      "_________________________________________________________________\n",
      "Layer (type)                 Output Shape              Param #   \n",
      "=================================================================\n",
      "dense_7 (Dense)              (None, 512)               401920    \n",
      "_________________________________________________________________\n",
      "dropout_3 (Dropout)          (None, 512)               0         \n",
      "_________________________________________________________________\n",
      "dense_8 (Dense)              (None, 512)               262656    \n",
      "_________________________________________________________________\n",
      "dropout_4 (Dropout)          (None, 512)               0         \n",
      "_________________________________________________________________\n",
      "dense_9 (Dense)              (None, 10)                5130      \n",
      "=================================================================\n",
      "Total params: 669,706\n",
      "Trainable params: 669,706\n",
      "Non-trainable params: 0\n",
      "_________________________________________________________________\n"
     ]
    }
   ],
   "source": [
    "# We already used `summary`\n",
    "model.summary()"
   ]
  },
  {
   "cell_type": "markdown",
   "metadata": {},
   "source": [
    "### `model.layers` is iterable"
   ]
  },
  {
   "cell_type": "code",
   "execution_count": 23,
   "metadata": {},
   "outputs": [
    {
     "name": "stdout",
     "output_type": "stream",
     "text": [
      "Model Input Tensors:  Tensor(\"dense_7_input:0\", shape=(?, 784), dtype=float32)\n",
      "\n",
      "Layers - Network Configuration:\n",
      "\n",
      "dense_7 True\n",
      "Layer Configuration:\n",
      "{'name': 'dense_7', 'trainable': True, 'batch_input_shape': (None, 784), 'dtype': 'float32', 'units': 512, 'activation': 'relu', 'use_bias': True, 'kernel_initializer': {'class_name': 'VarianceScaling', 'config': {'scale': 1.0, 'mode': 'fan_avg', 'distribution': 'uniform', 'seed': None}}, 'bias_initializer': {'class_name': 'Zeros', 'config': {}}, 'kernel_regularizer': None, 'bias_regularizer': None, 'activity_regularizer': None, 'kernel_constraint': None, 'bias_constraint': None}\n",
      "----------------------------------------\n",
      "dropout_3 True\n",
      "Layer Configuration:\n",
      "{'name': 'dropout_3', 'trainable': True, 'rate': 0.2, 'noise_shape': None, 'seed': None}\n",
      "----------------------------------------\n",
      "dense_8 True\n",
      "Layer Configuration:\n",
      "{'name': 'dense_8', 'trainable': True, 'units': 512, 'activation': 'relu', 'use_bias': True, 'kernel_initializer': {'class_name': 'VarianceScaling', 'config': {'scale': 1.0, 'mode': 'fan_avg', 'distribution': 'uniform', 'seed': None}}, 'bias_initializer': {'class_name': 'Zeros', 'config': {}}, 'kernel_regularizer': None, 'bias_regularizer': None, 'activity_regularizer': None, 'kernel_constraint': None, 'bias_constraint': None}\n",
      "----------------------------------------\n",
      "dropout_4 True\n",
      "Layer Configuration:\n",
      "{'name': 'dropout_4', 'trainable': True, 'rate': 0.2, 'noise_shape': None, 'seed': None}\n",
      "----------------------------------------\n",
      "dense_9 True\n",
      "Layer Configuration:\n",
      "{'name': 'dense_9', 'trainable': True, 'units': 10, 'activation': 'softmax', 'use_bias': True, 'kernel_initializer': {'class_name': 'VarianceScaling', 'config': {'scale': 1.0, 'mode': 'fan_avg', 'distribution': 'uniform', 'seed': None}}, 'bias_initializer': {'class_name': 'Zeros', 'config': {}}, 'kernel_regularizer': None, 'bias_regularizer': None, 'activity_regularizer': None, 'kernel_constraint': None, 'bias_constraint': None}\n",
      "----------------------------------------\n",
      "Model Output Tensors:  Tensor(\"dense_9/Softmax:0\", shape=(?, 10), dtype=float32)\n"
     ]
    }
   ],
   "source": [
    "print('Model Input Tensors: ', model.input, end='\\n\\n')\n",
    "print('Layers - Network Configuration:', end='\\n\\n')\n",
    "for layer in model.layers:\n",
    "    print(layer.name, layer.trainable)\n",
    "    print('Layer Configuration:')\n",
    "    print(layer.get_config(), end='\\n{}\\n'.format('----'*10))\n",
    "print('Model Output Tensors: ', model.output)"
   ]
  },
  {
   "cell_type": "markdown",
   "metadata": {},
   "source": [
    "## Extract hidden layer representation of the given data"
   ]
  },
  {
   "cell_type": "markdown",
   "metadata": {},
   "source": [
    "One **simple** way to do it is to use the weights of your model to build a new model that's truncated at the layer you want to read. \n",
    "\n",
    "Then you can run the `._predict(X_batch)` method to get the activations for a batch of inputs."
   ]
  },
  {
   "cell_type": "code",
   "execution_count": 24,
   "metadata": {},
   "outputs": [],
   "source": [
    "model_truncated = Sequential()\n",
    "model_truncated.add(Dense(512, activation='relu', input_shape=(784,)))\n",
    "model_truncated.add(Dropout(0.2))\n",
    "model_truncated.add(Dense(512, activation='relu'))\n",
    "\n",
    "for i, layer in enumerate(model_truncated.layers):\n",
    "    layer.set_weights(model.layers[i].get_weights())\n",
    "\n",
    "model_truncated.compile(loss='categorical_crossentropy', optimizer=SGD(), \n",
    "              metrics=['accuracy'])"
   ]
  },
  {
   "cell_type": "code",
   "execution_count": 25,
   "metadata": {},
   "outputs": [
    {
     "data": {
      "text/plain": [
       "True"
      ]
     },
     "execution_count": 25,
     "metadata": {},
     "output_type": "execute_result"
    }
   ],
   "source": [
    "# Check\n",
    "np.all(model_truncated.layers[0].get_weights()[0] == model.layers[0].get_weights()[0])"
   ]
  },
  {
   "cell_type": "code",
   "execution_count": 26,
   "metadata": {},
   "outputs": [],
   "source": [
    "hidden_features = model_truncated.predict(X_train)"
   ]
  },
  {
   "cell_type": "code",
   "execution_count": 27,
   "metadata": {},
   "outputs": [
    {
     "data": {
      "text/plain": [
       "(45000, 512)"
      ]
     },
     "execution_count": 27,
     "metadata": {},
     "output_type": "execute_result"
    }
   ],
   "source": [
    "hidden_features.shape"
   ]
  },
  {
   "cell_type": "code",
   "execution_count": 28,
   "metadata": {},
   "outputs": [
    {
     "data": {
      "text/plain": [
       "(45000, 784)"
      ]
     },
     "execution_count": 28,
     "metadata": {},
     "output_type": "execute_result"
    }
   ],
   "source": [
    "X_train.shape"
   ]
  },
  {
   "cell_type": "markdown",
   "metadata": {},
   "source": [
    "#### Hint: Alternative Method to get activations \n",
    "\n",
    "(Using `keras.backend` `function` on Tensors)"
   ]
  },
  {
   "cell_type": "markdown",
   "metadata": {
    "collapsed": true
   },
   "source": [
    "```python\n",
    "def get_activations(model, layer, X_batch):\n",
    "    activations_f = K.function([model.layers[0].input, K.learning_phase()], [layer.output,])\n",
    "    activations = activations_f((X_batch, False))\n",
    "    return activations\n",
    "```"
   ]
  },
  {
   "cell_type": "markdown",
   "metadata": {},
   "source": [
    "---"
   ]
  },
  {
   "cell_type": "markdown",
   "metadata": {},
   "source": [
    "### Generate the Embedding of Hidden Features"
   ]
  },
  {
   "cell_type": "code",
   "execution_count": 29,
   "metadata": {},
   "outputs": [],
   "source": [
    "from sklearn.manifold import TSNE\n",
    "\n",
    "tsne = TSNE(n_components=2)\n",
    "X_tsne = tsne.fit_transform(hidden_features[:1000]) ## Reduced for computational issues"
   ]
  },
  {
   "cell_type": "code",
   "execution_count": 30,
   "metadata": {},
   "outputs": [],
   "source": [
    "colors_map = np.argmax(Y_train, axis=1)"
   ]
  },
  {
   "cell_type": "code",
   "execution_count": 31,
   "metadata": {},
   "outputs": [
    {
     "data": {
      "text/plain": [
       "(1000, 2)"
      ]
     },
     "execution_count": 31,
     "metadata": {},
     "output_type": "execute_result"
    }
   ],
   "source": [
    "X_tsne.shape"
   ]
  },
  {
   "cell_type": "code",
   "execution_count": 33,
   "metadata": {},
   "outputs": [],
   "source": [
    "nb_classes = 10"
   ]
  },
  {
   "cell_type": "code",
   "execution_count": 34,
   "metadata": {},
   "outputs": [
    {
     "data": {
      "text/plain": [
       "(array([    7,     8,    27, ..., 44970, 44974, 44996]),)"
      ]
     },
     "execution_count": 34,
     "metadata": {},
     "output_type": "execute_result"
    }
   ],
   "source": [
    "np.where(colors_map==6)"
   ]
  },
  {
   "cell_type": "code",
   "execution_count": 35,
   "metadata": {},
   "outputs": [
    {
     "data": {
      "image/png": "[encoded data removed]",
      "text/plain": [
       "<matplotlib.figure.Figure at 0x7f75cc775940>"
      ]
     },
     "metadata": {},
     "output_type": "display_data"
    }
   ],
   "source": [
    "colors = np.array([x for x in 'b-g-r-c-m-y-k-purple-coral-lime'.split('-')])\n",
    "colors_map = colors_map[:1000]\n",
    "plt.figure(figsize=(10,10))\n",
    "for cl in range(nb_classes):\n",
    "    indices = np.where(colors_map==cl)\n",
    "    plt.scatter(X_tsne[indices,0], X_tsne[indices, 1], c=colors[cl], label=cl)\n",
    "plt.legend()\n",
    "plt.show()"
   ]
  },
  {
   "cell_type": "markdown",
   "metadata": {},
   "source": [
    "## Using Bokeh (Interactive Chart)"
   ]
  },
  {
   "cell_type": "code",
   "execution_count": 36,
   "metadata": {},
   "outputs": [
    {
     "data": {
      "text/html": [
       "\n",
       "    <div class=\"bk-root\">\n",
       "        <a href=\"https://bokeh.pydata.org\" target=\"_blank\" class=\"bk-logo bk-logo-small bk-logo-notebook\"></a>\n",
       "        <span id=\"f262626b-6235-4df3-bc3f-79401fb6caea\">Loading BokehJS ...</span>\n",
       "    </div>"
      ]
     },
     "metadata": {},
     "output_type": "display_data"
    },
    {
     "data": {
      "application/javascript": [
       "\n",
       "(function(root) {\n",
       "  function now() {\n",
       "    return new Date();\n",
       "  }\n",
       "\n",
       "  var force = true;\n",
       "\n",
       "  if (typeof (root._bokeh_onload_callbacks) === \"undefined\" || force === true) {\n",
       "    root._bokeh_onload_callbacks = [];\n",
       "    root._bokeh_is_loading = undefined;\n",
       "  }\n",
       "\n",
       "  var JS_MIME_TYPE = 'application/javascript';\n",
       "  var HTML_MIME_TYPE = 'text/html';\n",
       "  var EXEC_MIME_TYPE = 'application/vnd.bokehjs_exec.v0+json';\n",
       "  var CLASS_NAME = 'output_bokeh rendered_html';\n",
       "\n",
       "  /**\n",
       "   * Render data to the DOM node\n",
       "   */\n",
       "  function render(props, node) {\n",
       "    var script = document.createElement(\"script\");\n",
       "    node.appendChild(script);\n",
       "  }\n",
       "\n",
       "  /**\n",
       "   * Handle when an output is cleared or removed\n",
       "   */\n",
       "  function handleClearOutput(event, handle) {\n",
       "    var cell = handle.cell;\n",
       "\n",
       "    var id = cell.output_area._bokeh_element_id;\n",
       "    var server_id = cell.output_area._bokeh_server_id;\n",
       "    // Clean up Bokeh references\n",
       "    if (id !== undefined) {\n",
       "      Bokeh.index[id].model.document.clear();\n",
       "      delete Bokeh.index[id];\n",
       "    }\n",
       "\n",
       "    if (server_id !== undefined) {\n",
       "      // Clean up Bokeh references\n",
       "      var cmd = \"from bokeh.io.state import curstate; print(curstate().uuid_to_server['\" + server_id + \"'].get_sessions()[0].document.roots[0]._id)\";\n",
       "      cell.notebook.kernel.execute(cmd, {\n",
       "        iopub: {\n",
       "          output: function(msg) {\n",
       "            var element_id = msg.content.text.trim();\n",
       "            Bokeh.index[element_id].model.document.clear();\n",
       "            delete Bokeh.index[element_id];\n",
       "          }\n",
       "        }\n",
       "      });\n",
       "      // Destroy server and session\n",
       "      var cmd = \"import bokeh.io.notebook as ion; ion.destroy_server('\" + server_id + \"')\";\n",
       "      cell.notebook.kernel.execute(cmd);\n",
       "    }\n",
       "  }\n",
       "\n",
       "  /**\n",
       "   * Handle when a new output is added\n",
       "   */\n",
       "  function handleAddOutput(event, handle) {\n",
       "    var output_area = handle.output_area;\n",
       "    var output = handle.output;\n",
       "\n",
       "    // limit handleAddOutput to display_data with EXEC_MIME_TYPE content only\n",
       "    if ((output.output_type != \"display_data\") || (!output.data.hasOwnProperty(EXEC_MIME_TYPE))) {\n",
       "      return\n",
       "    }\n",
       "\n",
       "    var toinsert = output_area.element.find(\".\" + CLASS_NAME.split(' ')[0]);\n",
       "\n",
       "    if (output.metadata[EXEC_MIME_TYPE][\"id\"] !== undefined) {\n",
       "      toinsert[0].firstChild.textContent = output.data[JS_MIME_TYPE];\n",
       "      // store reference to embed id on output_area\n",
       "      output_area._bokeh_element_id = output.metadata[EXEC_MIME_TYPE][\"id\"];\n",
       "    }\n",
       "    if (output.metadata[EXEC_MIME_TYPE][\"server_id\"] !== undefined) {\n",
       "      var bk_div = document.createElement(\"div\");\n",
       "      bk_div.innerHTML = output.data[HTML_MIME_TYPE];\n",
       "      var script_attrs = bk_div.children[0].attributes;\n",
       "      for (var i = 0; i < script_attrs.length; i++) {\n",
       "        toinsert[0].firstChild.setAttribute(script_attrs[i].name, script_attrs[i].value);\n",
       "      }\n",
       "      // store reference to server id on output_area\n",
       "      output_area._bokeh_server_id = output.metadata[EXEC_MIME_TYPE][\"server_id\"];\n",
       "    }\n",
       "  }\n",
       "\n",
       "  function register_renderer(events, OutputArea) {\n",
       "\n",
       "    function append_mime(data, metadata, element) {\n",
       "      // create a DOM node to render to\n",
       "      var toinsert = this.create_output_subarea(\n",
       "        metadata,\n",
       "        CLASS_NAME,\n",
       "        EXEC_MIME_TYPE\n",
       "      );\n",
       "      this.keyboard_manager.register_events(toinsert);\n",
       "      // Render to node\n",
       "      var props = {data: data, metadata: metadata[EXEC_MIME_TYPE]};\n",
       "      render(props, toinsert[0]);\n",
       "      element.append(toinsert);\n",
       "      return toinsert\n",
       "    }\n",
       "\n",
       "    /* Handle when an output is cleared or removed */\n",
       "    events.on('clear_output.CodeCell', handleClearOutput);\n",
       "    events.on('delete.Cell', handleClearOutput);\n",
       "\n",
       "    /* Handle when a new output is added */\n",
       "    events.on('output_added.OutputArea', handleAddOutput);\n",
       "\n",
       "    /**\n",
       "     * Register the mime type and append_mime function with output_area\n",
       "     */\n",
       "    OutputArea.prototype.register_mime_type(EXEC_MIME_TYPE, append_mime, {\n",
       "      /* Is output safe? */\n",
       "      safe: true,\n",
       "      /* Index of renderer in `output_area.display_order` */\n",
       "      index: 0\n",
       "    });\n",
       "  }\n",
       "\n",
       "  // register the mime type if in Jupyter Notebook environment and previously unregistered\n",
       "  if (root.Jupyter !== undefined) {\n",
       "    var events = require('base/js/events');\n",
       "    var OutputArea = require('notebook/js/outputarea').OutputArea;\n",
       "\n",
       "    if (OutputArea.prototype.mime_types().indexOf(EXEC_MIME_TYPE) == -1) {\n",
       "      register_renderer(events, OutputArea);\n",
       "    }\n",
       "  }\n",
       "\n",
       "  \n",
       "  if (typeof (root._bokeh_timeout) === \"undefined\" || force === true) {\n",
       "    root._bokeh_timeout = Date.now() + 5000;\n",
       "    root._bokeh_failed_load = false;\n",
       "  }\n",
       "\n",
       "  var NB_LOAD_WARNING = {'data': {'text/html':\n",
       "     \"<div style='background-color: #fdd'>\\n\"+\n",
       "     \"<p>\\n\"+\n",
       "     \"BokehJS does not appear to have successfully loaded. If loading BokehJS from CDN, this \\n\"+\n",
       "     \"may be due to a slow or bad network connection. Possible fixes:\\n\"+\n",
       "     \"</p>\\n\"+\n",
       "     \"<ul>\\n\"+\n",
       "     \"<li>re-rerun `output_notebook()` to attempt to load from CDN again, or</li>\\n\"+\n",
       "     \"<li>use INLINE resources instead, as so:</li>\\n\"+\n",
       "     \"</ul>\\n\"+\n",
       "     \"<code>\\n\"+\n",
       "     \"from bokeh.resources import INLINE\\n\"+\n",
       "     \"output_notebook(resources=INLINE)\\n\"+\n",
       "     \"</code>\\n\"+\n",
       "     \"</div>\"}};\n",
       "\n",
       "  function display_loaded() {\n",
       "    var el = document.getElementById(\"f262626b-6235-4df3-bc3f-79401fb6caea\");\n",
       "    if (el != null) {\n",
       "      el.textContent = \"BokehJS is loading...\";\n",
       "    }\n",
       "    if (root.Bokeh !== undefined) {\n",
       "      if (el != null) {\n",
       "        el.textContent = \"BokehJS \" + root.Bokeh.version + \" successfully loaded.\";\n",
       "      }\n",
       "    } else if (Date.now() < root._bokeh_timeout) {\n",
       "      setTimeout(display_loaded, 100)\n",
       "    }\n",
       "  }\n",
       "\n",
       "\n",
       "  function run_callbacks() {\n",
       "    try {\n",
       "      root._bokeh_onload_callbacks.forEach(function(callback) { callback() });\n",
       "    }\n",
       "    finally {\n",
       "      delete root._bokeh_onload_callbacks\n",
       "    }\n",
       "    console.info(\"Bokeh: all callbacks have finished\");\n",
       "  }\n",
       "\n",
       "  function load_libs(js_urls, callback) {\n",
       "    root._bokeh_onload_callbacks.push(callback);\n",
       "    if (root._bokeh_is_loading > 0) {\n",
       "      console.log(\"Bokeh: BokehJS is being loaded, scheduling callback at\", now());\n",
       "      return null;\n",
       "    }\n",
       "    if (js_urls == null || js_urls.length === 0) {\n",
       "      run_callbacks();\n",
       "      return null;\n",
       "    }\n",
       "    console.log(\"Bokeh: BokehJS not loaded, scheduling load and callback at\", now());\n",
       "    root._bokeh_is_loading = js_urls.length;\n",
       "    for (var i = 0; i < js_urls.length; i++) {\n",
       "      var url = js_urls[i];\n",
       "      var s = document.createElement('script');\n",
       "      s.src = url;\n",
       "      s.async = false;\n",
       "      s.onreadystatechange = s.onload = function() {\n",
       "        root._bokeh_is_loading--;\n",
       "        if (root._bokeh_is_loading === 0) {\n",
       "          console.log(\"Bokeh: all BokehJS libraries loaded\");\n",
       "          run_callbacks()\n",
       "        }\n",
       "      };\n",
       "      s.onerror = function() {\n",
       "        console.warn(\"failed to load library \" + url);\n",
       "      };\n",
       "      console.log(\"Bokeh: injecting script tag for BokehJS library: \", url);\n",
       "      document.getElementsByTagName(\"head\")[0].appendChild(s);\n",
       "    }\n",
       "  };var element = document.getElementById(\"f262626b-6235-4df3-bc3f-79401fb6caea\");\n",
       "  if (element == null) {\n",
       "    console.log(\"Bokeh: ERROR: autoload.js configured with elementid 'f262626b-6235-4df3-bc3f-79401fb6caea' but no matching script tag was found. \")\n",
       "    return false;\n",
       "  }\n",
       "\n",
       "  var js_urls = [\"https://cdn.pydata.org/bokeh/release/bokeh-0.12.13.min.js\", \"https://cdn.pydata.org/bokeh/release/bokeh-widgets-0.12.13.min.js\", \"https://cdn.pydata.org/bokeh/release/bokeh-tables-0.12.13.min.js\", \"https://cdn.pydata.org/bokeh/release/bokeh-gl-0.12.13.min.js\"];\n",
       "\n",
       "  var inline_js = [\n",
       "    function(Bokeh) {\n",
       "      Bokeh.set_log_level(\"info\");\n",
       "    },\n",
       "    \n",
       "    function(Bokeh) {\n",
       "      \n",
       "    },\n",
       "    function(Bokeh) {\n",
       "      console.log(\"Bokeh: injecting CSS: https://cdn.pydata.org/bokeh/release/bokeh-0.12.13.min.css\");\n",
       "      Bokeh.embed.inject_css(\"https://cdn.pydata.org/bokeh/release/bokeh-0.12.13.min.css\");\n",
       "      console.log(\"Bokeh: injecting CSS: https://cdn.pydata.org/bokeh/release/bokeh-widgets-0.12.13.min.css\");\n",
       "      Bokeh.embed.inject_css(\"https://cdn.pydata.org/bokeh/release/bokeh-widgets-0.12.13.min.css\");\n",
       "      console.log(\"Bokeh: injecting CSS: https://cdn.pydata.org/bokeh/release/bokeh-tables-0.12.13.min.css\");\n",
       "      Bokeh.embed.inject_css(\"https://cdn.pydata.org/bokeh/release/bokeh-tables-0.12.13.min.css\");\n",
       "    }\n",
       "  ];\n",
       "\n",
       "  function run_inline_js() {\n",
       "    \n",
       "    if ((root.Bokeh !== undefined) || (force === true)) {\n",
       "      for (var i = 0; i < inline_js.length; i++) {\n",
       "        inline_js[i].call(root, root.Bokeh);\n",
       "      }if (force === true) {\n",
       "        display_loaded();\n",
       "      }} else if (Date.now() < root._bokeh_timeout) {\n",
       "      setTimeout(run_inline_js, 100);\n",
       "    } else if (!root._bokeh_failed_load) {\n",
       "      console.log(\"Bokeh: BokehJS failed to load within specified timeout.\");\n",
       "      root._bokeh_failed_load = true;\n",
       "    } else if (force !== true) {\n",
       "      var cell = $(document.getElementById(\"f262626b-6235-4df3-bc3f-79401fb6caea\")).parents('.cell').data().cell;\n",
       "      cell.output_area.append_execute_result(NB_LOAD_WARNING)\n",
       "    }\n",
       "\n",
       "  }\n",
       "\n",
       "  if (root._bokeh_is_loading === 0) {\n",
       "    console.log(\"Bokeh: BokehJS loaded, going straight to plotting\");\n",
       "    run_inline_js();\n",
       "  } else {\n",
       "    load_libs(js_urls, function() {\n",
       "      console.log(\"Bokeh: BokehJS plotting callback run at\", now());\n",
       "      run_inline_js();\n",
       "    });\n",
       "  }\n",
       "}(window));"
      ],
      "application/vnd.bokehjs_load.v0+json": "\n(function(root) {\n  function now() {\n    return new Date();\n  }\n\n  var force = true;\n\n  if (typeof (root._bokeh_onload_callbacks) === \"undefined\" || force === true) {\n    root._bokeh_onload_callbacks = [];\n    root._bokeh_is_loading = undefined;\n  }\n\n  \n\n  \n  if (typeof (root._bokeh_timeout) === \"undefined\" || force === true) {\n    root._bokeh_timeout = Date.now() + 5000;\n    root._bokeh_failed_load = false;\n  }\n\n  var NB_LOAD_WARNING = {'data': {'text/html':\n     \"<div style='background-color: #fdd'>\\n\"+\n     \"<p>\\n\"+\n     \"BokehJS does not appear to have successfully loaded. If loading BokehJS from CDN, this \\n\"+\n     \"may be due to a slow or bad network connection. Possible fixes:\\n\"+\n     \"</p>\\n\"+\n     \"<ul>\\n\"+\n     \"<li>re-rerun `output_notebook()` to attempt to load from CDN again, or</li>\\n\"+\n     \"<li>use INLINE resources instead, as so:</li>\\n\"+\n     \"</ul>\\n\"+\n     \"<code>\\n\"+\n     \"from bokeh.resources import INLINE\\n\"+\n     \"output_notebook(resources=INLINE)\\n\"+\n     \"</code>\\n\"+\n     \"</div>\"}};\n\n  function display_loaded() {\n    var el = document.getElementById(\"f262626b-6235-4df3-bc3f-79401fb6caea\");\n    if (el != null) {\n      el.textContent = \"BokehJS is loading...\";\n    }\n    if (root.Bokeh !== undefined) {\n      if (el != null) {\n        el.textContent = \"BokehJS \" + root.Bokeh.version + \" successfully loaded.\";\n      }\n    } else if (Date.now() < root._bokeh_timeout) {\n      setTimeout(display_loaded, 100)\n    }\n  }\n\n\n  function run_callbacks() {\n    try {\n      root._bokeh_onload_callbacks.forEach(function(callback) { callback() });\n    }\n    finally {\n      delete root._bokeh_onload_callbacks\n    }\n    console.info(\"Bokeh: all callbacks have finished\");\n  }\n\n  function load_libs(js_urls, callback) {\n    root._bokeh_onload_callbacks.push(callback);\n    if (root._bokeh_is_loading > 0) {\n      console.log(\"Bokeh: BokehJS is being loaded, scheduling callback at\", now());\n      return null;\n    }\n    if (js_urls == null || js_urls.length === 0) {\n      run_callbacks();\n      return null;\n    }\n    console.log(\"Bokeh: BokehJS not loaded, scheduling load and callback at\", now());\n    root._bokeh_is_loading = js_urls.length;\n    for (var i = 0; i < js_urls.length; i++) {\n      var url = js_urls[i];\n      var s = document.createElement('script');\n      s.src = url;\n      s.async = false;\n      s.onreadystatechange = s.onload = function() {\n        root._bokeh_is_loading--;\n        if (root._bokeh_is_loading === 0) {\n          console.log(\"Bokeh: all BokehJS libraries loaded\");\n          run_callbacks()\n        }\n      };\n      s.onerror = function() {\n        console.warn(\"failed to load library \" + url);\n      };\n      console.log(\"Bokeh: injecting script tag for BokehJS library: \", url);\n      document.getElementsByTagName(\"head\")[0].appendChild(s);\n    }\n  };var element = document.getElementById(\"f262626b-6235-4df3-bc3f-79401fb6caea\");\n  if (element == null) {\n    console.log(\"Bokeh: ERROR: autoload.js configured with elementid 'f262626b-6235-4df3-bc3f-79401fb6caea' but no matching script tag was found. \")\n    return false;\n  }\n\n  var js_urls = [\"https://cdn.pydata.org/bokeh/release/bokeh-0.12.13.min.js\", \"https://cdn.pydata.org/bokeh/release/bokeh-widgets-0.12.13.min.js\", \"https://cdn.pydata.org/bokeh/release/bokeh-tables-0.12.13.min.js\", \"https://cdn.pydata.org/bokeh/release/bokeh-gl-0.12.13.min.js\"];\n\n  var inline_js = [\n    function(Bokeh) {\n      Bokeh.set_log_level(\"info\");\n    },\n    \n    function(Bokeh) {\n      \n    },\n    function(Bokeh) {\n      console.log(\"Bokeh: injecting CSS: https://cdn.pydata.org/bokeh/release/bokeh-0.12.13.min.css\");\n      Bokeh.embed.inject_css(\"https://cdn.pydata.org/bokeh/release/bokeh-0.12.13.min.css\");\n      console.log(\"Bokeh: injecting CSS: https://cdn.pydata.org/bokeh/release/bokeh-widgets-0.12.13.min.css\");\n      Bokeh.embed.inject_css(\"https://cdn.pydata.org/bokeh/release/bokeh-widgets-0.12.13.min.css\");\n      console.log(\"Bokeh: injecting CSS: https://cdn.pydata.org/bokeh/release/bokeh-tables-0.12.13.min.css\");\n      Bokeh.embed.inject_css(\"https://cdn.pydata.org/bokeh/release/bokeh-tables-0.12.13.min.css\");\n    }\n  ];\n\n  function run_inline_js() {\n    \n    if ((root.Bokeh !== undefined) || (force === true)) {\n      for (var i = 0; i < inline_js.length; i++) {\n        inline_js[i].call(root, root.Bokeh);\n      }if (force === true) {\n        display_loaded();\n      }} else if (Date.now() < root._bokeh_timeout) {\n      setTimeout(run_inline_js, 100);\n    } else if (!root._bokeh_failed_load) {\n      console.log(\"Bokeh: BokehJS failed to load within specified timeout.\");\n      root._bokeh_failed_load = true;\n    } else if (force !== true) {\n      var cell = $(document.getElementById(\"f262626b-6235-4df3-bc3f-79401fb6caea\")).parents('.cell').data().cell;\n      cell.output_area.append_execute_result(NB_LOAD_WARNING)\n    }\n\n  }\n\n  if (root._bokeh_is_loading === 0) {\n    console.log(\"Bokeh: BokehJS loaded, going straight to plotting\");\n    run_inline_js();\n  } else {\n    load_libs(js_urls, function() {\n      console.log(\"Bokeh: BokehJS plotting callback run at\", now());\n      run_inline_js();\n    });\n  }\n}(window));"
     },
     "metadata": {},
     "output_type": "display_data"
    }
   ],
   "source": [
    "from bokeh.plotting import figure, output_notebook, show\n",
    "\n",
    "output_notebook()"
   ]
  },
  {
   "cell_type": "code",
   "execution_count": 37,
   "metadata": {},
   "outputs": [
    {
     "data": {
      "text/html": [
       "\n",
       "<div class=\"bk-root\">\n",
       "    <div class=\"bk-plotdiv\" id=\"1e0ea7aa-c344-4d5c-8a53-a60efb7e4249\"></div>\n",
       "</div>"
      ]
     },
     "metadata": {},
     "output_type": "display_data"
    },
    {
     "data": {
      "application/javascript": [
       "(function(root) {\n",
       "  function embed_document(root) {\n",
       "    \n",
       "  var docs_json = {\"11eaa611-69d2-4995-ab22-b3c2495bfd34\":{\"roots\":{\"references\":[{\"attributes\":{\"fill_alpha\":{\"value\":0.1},\"fill_color\":{\"value\":\"#1f77b4\"},\"line_alpha\":{\"value\":0.1},\"line_color\":{\"value\":\"#1f77b4\"},\"size\":{\"units\":\"screen\",\"value\":7},\"x\":{\"field\":\"x\"},\"y\":{\"field\":\"y\"}},\"id\":\"b106f530-10d0-4f71-bdbc-83464c578e25\",\"type\":\"Circle\"},{\"attributes\":{\"data_source\":{\"id\":\"96355816-7c48-4c55-bf6a-2734369603ea\",\"type\":\"ColumnDataSource\"},\"glyph\":{\"id\":\"e1d48e82-dc5c-4504-9f4c-e71b39ca1020\",\"type\":\"Circle\"},\"hover_glyph\":null,\"muted_glyph\":null,\"nonselection_glyph\":{\"id\":\"b106f530-10d0-4f71-bdbc-83464c578e25\",\"type\":\"Circle\"},\"selection_glyph\":null,\"view\":{\"id\":\"a13f664c-71bc-4454-92a1-d060030db42b\",\"type\":\"CDSView\"}},\"id\":\"473f8b77-c91a-475b-8d72-06b30e403e5b\",\"type\":\"GlyphRenderer\"},{\"attributes\":{\"source\":{\"id\":\"96355816-7c48-4c55-bf6a-2734369603ea\",\"type\":\"ColumnDataSource\"}},\"id\":\"a13f664c-71bc-4454-92a1-d060030db42b\",\"type\":\"CDSView\"},{\"attributes\":{\"fill_alpha\":{\"value\":0.1},\"fill_color\":{\"value\":\"#1f77b4\"},\"line_alpha\":{\"value\":0.1},\"line_color\":{\"value\":\"#1f77b4\"},\"size\":{\"units\":\"screen\",\"value\":7},\"x\":{\"field\":\"x\"},\"y\":{\"field\":\"y\"}},\"id\":\"96ab0e56-0bae-4dbd-b1dc-c500ae510900\",\"type\":\"Circle\"},{\"attributes\":{\"label\":{\"value\":\"1\"},\"renderers\":[{\"id\":\"473f8b77-c91a-475b-8d72-06b30e403e5b\",\"type\":\"GlyphRenderer\"}]},\"id\":\"326d0c2a-f05a-40f0-a846-1cefe97201b6\",\"type\":\"LegendItem\"},{\"attributes\":{\"fill_alpha\":{\"value\":0.4},\"fill_color\":{\"value\":\"red\"},\"line_alpha\":{\"value\":0.4},\"line_color\":{\"value\":\"red\"},\"size\":{\"units\":\"screen\",\"value\":7},\"x\":{\"field\":\"x\"},\"y\":{\"field\":\"y\"}},\"id\":\"fbe68e8c-bb5d-42e0-8013-534320d8e406\",\"type\":\"Circle\"},{\"attributes\":{\"label\":{\"value\":\"2\"},\"renderers\":[{\"id\":\"2b605a2f-f1ac-414a-be99-061fe390535c\",\"type\":\"GlyphRenderer\"}]},\"id\":\"8cae440e-a85f-4260-824b-1c8513cb5d68\",\"type\":\"LegendItem\"},{\"attributes\":{\"label\":{\"value\":\"3\"},\"renderers\":[{\"id\":\"e43b401c-cd36-4547-b4c6-2bfa2c0246ed\",\"type\":\"GlyphRenderer\"}]},\"id\":\"2be6b7b8-6cce-459f-ad24-07c9d988a378\",\"type\":\"LegendItem\"},{\"attributes\":{\"data_source\":{\"id\":\"8e0fef39-01ff-47b3-818a-52d14527791a\",\"type\":\"ColumnDataSource\"},\"glyph\":{\"id\":\"fbe68e8c-bb5d-42e0-8013-534320d8e406\",\"type\":\"Circle\"},\"hover_glyph\":null,\"muted_glyph\":null,\"nonselection_glyph\":{\"id\":\"96ab0e56-0bae-4dbd-b1dc-c500ae510900\",\"type\":\"Circle\"},\"selection_glyph\":null,\"view\":{\"id\":\"02aad613-b50c-4ceb-994e-7783cd096e69\",\"type\":\"CDSView\"}},\"id\":\"2b605a2f-f1ac-414a-be99-061fe390535c\",\"type\":\"GlyphRenderer\"},{\"attributes\":{\"data_source\":{\"id\":\"3351fff3-8181-4cfb-b8b4-972666094833\",\"type\":\"ColumnDataSource\"},\"glyph\":{\"id\":\"ceb03a21-0812-4349-b4f7-bfe36045e5f3\",\"type\":\"Circle\"},\"hover_glyph\":null,\"muted_glyph\":null,\"nonselection_glyph\":{\"id\":\"4ae4aa19-51d4-4274-adab-bbc36e1ec3a1\",\"type\":\"Circle\"},\"selection_glyph\":null,\"view\":{\"id\":\"052353a6-d373-4153-8009-88f432d996e4\",\"type\":\"CDSView\"}},\"id\":\"e43b401c-cd36-4547-b4c6-2bfa2c0246ed\",\"type\":\"GlyphRenderer\"},{\"attributes\":{\"source\":{\"id\":\"8e0fef39-01ff-47b3-818a-52d14527791a\",\"type\":\"ColumnDataSource\"}},\"id\":\"02aad613-b50c-4ceb-994e-7783cd096e69\",\"type\":\"CDSView\"},{\"attributes\":{\"source\":{\"id\":\"72555212-058a-4193-b6c9-8be637c5bd08\",\"type\":\"ColumnDataSource\"}},\"id\":\"99ee0114-d070-42f8-927e-b4897b6e4c39\",\"type\":\"CDSView\"},{\"attributes\":{\"callback\":null,\"column_names\":[\"x\",\"y\"],\"data\":{\"x\":{\"__ndarray__\":\"AHbjQf+/lkHmn9XBOUyeQaHE0EGlidNBAu+5Qeee40F047BBcKHYQd0WkEHq5MJBed7WQbpVwUFu2cRB3Bm1wc0xyUGnINpBvrjjQSWw30E5BqVBpKu0QTrh1kHbPsZBsliRQb4eyUF06KpB156+QduW4EGPt7hBkEHNQchMlkHU5stB81e+QQ4O6sCDcuBBRXXZQWOrwUHjOdBB6GHrQTKSx0F+a+hB5420QXVyxkEPTa9BeLmoQZyE1EF/18RB7GmqQUJB8UGOuu5BNz3dQamVrEHuOMtBePqtQXiJ1kEErKBBhbvaQfmczUHuwLhBkoXGQZoetUFCTdRB5//zQTpF4UFAcOVBcLLsQbL35kHghd1BOQPSQU//oEE3NrFBvL+cQcv/o0FZAp9B1pC1QUlFtMGMucVBynmLQTkd40E4vrRBn4TYQYLH5UGOf5lBk4nLQZR/00Ed8ZpBt1SsQcNxuUFW3utB9Ae+QbUY7EH5+9BBDtzxQXo/0EE=\",\"dtype\":\"float32\",\"shape\":[95]},\"y\":{\"__ndarray__\":\"UL2lQBC2tz9hCpfBFpXcP0CmiT8oe9lAyr1svtvL8kALI0pA8RkgwB5i0z4bur0/wGfhQAltvUCcxqjAv2csQUB5GkAWLvM//Q+SQGP40ED1GAVAJDmZv5KHrr9VJ9dA1iB7Pzxnfb+DVGO7YTfAv9cLAr/6oaY/g3C2QEYaAMDbGNlAVEAmwKRtBcKJP28/5GYZQJGraL8wAKS/nT+bQEkPVD+LahpAiuQbwJ+zq0DoDYw/Khhdvzdc8j9QZETAmZ05wEA7N7+hq9S7nu+1PzmINkBHkMw+erHdv3QVp0BGc+O/F+tGQJztiD/xI/C/coC2QJU6FEAhT2M/z7nCP8EC5kAA6p2/SvjIvkFlMkDrPdc9e8igQHY5hj7RDPi/B3qnQEABnD+3Zie+V51FP64mMUFU6be9tFOfvRRszEC1QYnAOdrDQBUVyL7QW5G/83uZQG7g50DCfdC/lgADQMVndT+Jwko/xDxNQG7aPkA3mYRAopFVP4GFtb8=\",\"dtype\":\"float32\",\"shape\":[95]}}},\"id\":\"3351fff3-8181-4cfb-b8b4-972666094833\",\"type\":\"ColumnDataSource\"},{\"attributes\":{\"callback\":null,\"column_names\":[\"x\",\"y\"],\"data\":{\"x\":{\"__ndarray__\":\"XzzcQV/dtkHzqO9BnzCpQdlcyUHm+cZBq3WnQUdM6EEMK+pBylz3QYX6ukE5odJBZ9LJQblSrEG+97RBGqzsQdaD40GK4qdBuErQQdmQAEJ9fNNBk1W4QVGW8UHmEfhBcjXeQQd4wUGIXZxBw5b+QR3IwUEos9VBr5yLQRCCvEHbf+dB0MfcQR4i4EGt3tFBho+1QT+TxUHDU7dBwy63QddDl0H4LeVBBDXWQQAJyUE9Z9ZBivLRQRrOtkH0WLBB+2iwQbHZqkF1UrVB1le9QR4MskFY8IdB6JPNQVejv0HbRb9BlP/EQczZsUHiNJRBeKfXQb9wn0HthL1B1L+0QVVn10HYrKlBO7vyQdXM6EEWfM1BqofAQTe48UFZK/1BW7HfQSwcwUFaYZNB6czDQSpS7EExc/hBpIjPQS4luUFnBNhBAkSsQeDXskGyRftBfwzfQdhr0UGzA5tBBmPiQeF600G81dVBagPrQfsD70HDMttBo/KwQYCu+0H2lpRB4oXVQV+H9UEVlqJBfgzCQRIL/UG21/tB6Ke3QQ==\",\"dtype\":\"float32\",\"shape\":[103]},\"y\":{\"__ndarray__\":\"fbMFQuaJD0KmNQZCkwERQn/e5kG6/wpCSm/zQZqdGULtvfhBdd4FQq8+GELWxhlCy23oQRMV5kHNBgtCDk0JQoXd/UF52wpCz3MCQjupEEIIfRhC+m0ZQrjiCkIDu/hBM0kCQr449EFYDAhCgGYKQhvpC0JZOgNCeoLlQeAPB0ICXwxC46oUQm2gGkK9Dw1CtXfoQUFQ/0FzeeZBRWYfQh1jBkK+iRJCD70QQhOt50Ezi/dBFSYPQpRA3kHXJ/pBDv0JQsMG7EGt1R9CfOAVQqv6EUKTvdpBo9sYQvLa/0EtguZBE2IQQqjh8kH4EgxCElwdQgIaBUIMKx1CqSMZQvQJEkJ/oQZCE1wRQsx3+EGW3fZB2ZwQQqXOEEKKThFC3lfsQc05AkIufgJCkaEJQsVyBkK1sgpCoDAGQmTdBEIadvNBbLD8QQzcDULo0ANC7kgRQrvuCULUrglCDMoAQsdME0K+6RZCCS0CQjumC0J4nwpCP4MMQs3BBEIUugRCA1YTQmq0F0J5xwNCu7wWQqmcEEKk1AxCsOjsQQ==\",\"dtype\":\"float32\",\"shape\":[103]}}},\"id\":\"72555212-058a-4193-b6c9-8be637c5bd08\",\"type\":\"ColumnDataSource\"},{\"attributes\":{\"source\":{\"id\":\"3351fff3-8181-4cfb-b8b4-972666094833\",\"type\":\"ColumnDataSource\"}},\"id\":\"052353a6-d373-4153-8009-88f432d996e4\",\"type\":\"CDSView\"},{\"attributes\":{\"label\":{\"value\":\"4\"},\"renderers\":[{\"id\":\"211f25da-8e05-478e-b526-91e2706e7709\",\"type\":\"GlyphRenderer\"}]},\"id\":\"e5c6c7d1-4911-4157-b820-f6abd5544ff1\",\"type\":\"LegendItem\"},{\"attributes\":{\"fill_alpha\":{\"value\":0.4},\"fill_color\":{\"value\":\"magenta\"},\"line_alpha\":{\"value\":0.4},\"line_color\":{\"value\":\"magenta\"},\"size\":{\"units\":\"screen\",\"value\":7},\"x\":{\"field\":\"x\"},\"y\":{\"field\":\"y\"}},\"id\":\"a5e58b57-f653-4215-93e4-74258e4eb63c\",\"type\":\"Circle\"},{\"attributes\":{\"data_source\":{\"id\":\"72555212-058a-4193-b6c9-8be637c5bd08\",\"type\":\"ColumnDataSource\"},\"glyph\":{\"id\":\"a5e58b57-f653-4215-93e4-74258e4eb63c\",\"type\":\"Circle\"},\"hover_glyph\":null,\"muted_glyph\":null,\"nonselection_glyph\":{\"id\":\"0a33a4f7-d5af-43eb-9f9e-f92087d879fe\",\"type\":\"Circle\"},\"selection_glyph\":null,\"view\":{\"id\":\"99ee0114-d070-42f8-927e-b4897b6e4c39\",\"type\":\"CDSView\"}},\"id\":\"211f25da-8e05-478e-b526-91e2706e7709\",\"type\":\"GlyphRenderer\"},{\"attributes\":{\"fill_alpha\":{\"value\":0.1},\"fill_color\":{\"value\":\"#1f77b4\"},\"line_alpha\":{\"value\":0.1},\"line_color\":{\"value\":\"#1f77b4\"},\"size\":{\"units\":\"screen\",\"value\":7},\"x\":{\"field\":\"x\"},\"y\":{\"field\":\"y\"}},\"id\":\"0a33a4f7-d5af-43eb-9f9e-f92087d879fe\",\"type\":\"Circle\"},{\"attributes\":{\"fill_alpha\":{\"value\":0.4},\"fill_color\":{\"value\":\"blue\"},\"line_alpha\":{\"value\":0.4},\"line_color\":{\"value\":\"blue\"},\"size\":{\"units\":\"screen\",\"value\":7},\"x\":{\"field\":\"x\"},\"y\":{\"field\":\"y\"}},\"id\":\"713d9caf-9d9a-4aaf-859e-8ee22aea42fc\",\"type\":\"Circle\"},{\"attributes\":{\"fill_alpha\":{\"value\":0.4},\"fill_color\":{\"value\":\"yellow\"},\"line_alpha\":{\"value\":0.4},\"line_color\":{\"value\":\"yellow\"},\"size\":{\"units\":\"screen\",\"value\":7},\"x\":{\"field\":\"x\"},\"y\":{\"field\":\"y\"}},\"id\":\"705a0f9d-ec96-4ee2-8e9b-2fb9eeeea2c4\",\"type\":\"Circle\"},{\"attributes\":{\"source\":{\"id\":\"44337014-7800-45fe-b6f3-d225fabfb98d\",\"type\":\"ColumnDataSource\"}},\"id\":\"d22d450d-663d-4cb6-bbf3-3b990aae929f\",\"type\":\"CDSView\"},{\"attributes\":{\"label\":{\"value\":\"5\"},\"renderers\":[{\"id\":\"e4a50766-127d-4adc-b277-34d70c69c1ef\",\"type\":\"GlyphRenderer\"}]},\"id\":\"9462376a-4743-4ea3-b878-fe83ca774bb0\",\"type\":\"LegendItem\"},{\"attributes\":{\"below\":[{\"id\":\"3375ad73-219a-41ca-8dcf-1dff4cdbe0c7\",\"type\":\"LinearAxis\"}],\"left\":[{\"id\":\"c3aed7c4-a78e-4896-8960-d57f587cc015\",\"type\":\"LinearAxis\"}],\"renderers\":[{\"id\":\"3375ad73-219a-41ca-8dcf-1dff4cdbe0c7\",\"type\":\"LinearAxis\"},{\"id\":\"16072878-acc1-4f41-b28a-3f368c9508a6\",\"type\":\"Grid\"},{\"id\":\"c3aed7c4-a78e-4896-8960-d57f587cc015\",\"type\":\"LinearAxis\"},{\"id\":\"cc216ee4-0035-48b7-a051-be68741ff1f8\",\"type\":\"Grid\"},{\"id\":\"63ecdb89-361d-4922-9858-f64a903e4443\",\"type\":\"BoxAnnotation\"},{\"id\":\"1b1c4e1f-1d7c-4898-aef1-f92fd7b4fb37\",\"type\":\"Legend\"},{\"id\":\"2e2fb961-f697-4df9-b61f-738845cf0376\",\"type\":\"GlyphRenderer\"},{\"id\":\"473f8b77-c91a-475b-8d72-06b30e403e5b\",\"type\":\"GlyphRenderer\"},{\"id\":\"2b605a2f-f1ac-414a-be99-061fe390535c\",\"type\":\"GlyphRenderer\"},{\"id\":\"e43b401c-cd36-4547-b4c6-2bfa2c0246ed\",\"type\":\"GlyphRenderer\"},{\"id\":\"211f25da-8e05-478e-b526-91e2706e7709\",\"type\":\"GlyphRenderer\"},{\"id\":\"e4a50766-127d-4adc-b277-34d70c69c1ef\",\"type\":\"GlyphRenderer\"},{\"id\":\"1eba29c4-3b0f-4e5e-b9f2-5d585db876eb\",\"type\":\"GlyphRenderer\"},{\"id\":\"a82109ab-802f-4d07-867c-47968b53ffe8\",\"type\":\"GlyphRenderer\"},{\"id\":\"ef844c68-5dc4-4166-a7de-c35016a2f46d\",\"type\":\"GlyphRenderer\"},{\"id\":\"6eb99ce0-a187-4ed9-a861-385ad47c3696\",\"type\":\"GlyphRenderer\"}],\"title\":{\"id\":\"e91be422-cbb5-45f8-85e5-2398c8ef1345\",\"type\":\"Title\"},\"toolbar\":{\"id\":\"8289bd5a-e185-4735-bf57-554e85652ce0\",\"type\":\"Toolbar\"},\"x_range\":{\"id\":\"ad10b078-25d5-44b9-af63-54407439d851\",\"type\":\"DataRange1d\"},\"x_scale\":{\"id\":\"266ee58c-414a-44ae-a975-c6df637f5aef\",\"type\":\"LinearScale\"},\"y_range\":{\"id\":\"8a4c06dc-1ab8-43e4-a670-f8a20e1e0c91\",\"type\":\"DataRange1d\"},\"y_scale\":{\"id\":\"e2c457e8-256f-44c5-93fa-7aec4e426e73\",\"type\":\"LinearScale\"}},\"id\":\"1f3cd187-5ca0-46e9-9544-53d8bfd88449\",\"subtype\":\"Figure\",\"type\":\"Plot\"},{\"attributes\":{\"callback\":null,\"column_names\":[\"x\",\"y\"],\"data\":{\"x\":{\"__ndarray__\":\"a2SVQaV+lUGlgatB3sstQb4MmEGWOk9BGaNqQZ7eIEE6hKVBco6ZQTaCzkA/5DZB5QzLQKkUnUG7KxxBHDyBQZMlmEFEealBeHPUQAxBc0Efz49Bv+iOQSYFnkHYXPJAsUwkQcbq1z8o+plBaYmDQQ1PeEErPLFBCIkJQUdJh0H7SllBdcE4QdTdmUHiaVlBthYUQYGUrUHRIYhB8K2gQe3qXkGzIRxBPVGLQWFXqEE81WNB1/CLQb+VnEEULZtBZJ6WQRfqOEH/cCpBWiKKQbDkmEH5CqNBGgOcQS7Rl0FmEfhA73MVQQT8pEGr07BAy8ikQc75oUF8QGZB4QOiQUMPJkFxh+lAmrCGQdE4nEH9jpVBVSF2QV2c1EDHwI9Bn5aoQRVNNEHxoo1BKWGJQSt+JkFrO2FBKC6fQUJ1rUE/7StBklKaQVyey0DeiopBAjNFQcJrsUE=\",\"dtype\":\"float32\",\"shape\":[86]},\"y\":{\"__ndarray__\":\"9C1awTvKhsEECpLB3jGNwaBdVMEy06HBkVBawTcWoMEtsajBlYmOwYCJjcEgeZvBpUuRwbltn8EME6LBTJCzwZSDjcHNxZbBR5OWwUosjcEmDILBB6mQwbccXMEQYJbB5diVwZo4zz8XWWvBdIauwXzenMEXTY/B6zqdwQ0ilMHC76DB+LGjwXsCcsGZN43BrsubwZ1Gb8EXKo/BdMxhweiojsG6K5HBnyehwaHwp8Hv453BUOabwfpIjMEW8ovBYzpDwSLjicGph5/BxZpdweoZYMFtJnjBr8CkwZbJmMGaT4rBP8mcwdW2bcHhQJXB+reFwYqkhsHmB6nBkJ6cwboDpsG/8JnBTiWEwSDNpsG4l5HBXetzwWyumsGQS3PB7/dswTJpjcGTs6TBBXWDwRx2msEnKZnBbjiiwaBZmMHCAZbBxXF8wTHzjcF0NFzBqJ6Ywbb1lsE=\",\"dtype\":\"float32\",\"shape\":[86]}}},\"id\":\"44337014-7800-45fe-b6f3-d225fabfb98d\",\"type\":\"ColumnDataSource\"},{\"attributes\":{\"data_source\":{\"id\":\"44337014-7800-45fe-b6f3-d225fabfb98d\",\"type\":\"ColumnDataSource\"},\"glyph\":{\"id\":\"705a0f9d-ec96-4ee2-8e9b-2fb9eeeea2c4\",\"type\":\"Circle\"},\"hover_glyph\":null,\"muted_glyph\":null,\"nonselection_glyph\":{\"id\":\"e456c010-54d1-4196-816b-8ebb8e24aad9\",\"type\":\"Circle\"},\"selection_glyph\":null,\"view\":{\"id\":\"d22d450d-663d-4cb6-bbf3-3b990aae929f\",\"type\":\"CDSView\"}},\"id\":\"e4a50766-127d-4adc-b277-34d70c69c1ef\",\"type\":\"GlyphRenderer\"},{\"attributes\":{\"active_drag\":\"auto\",\"active_inspect\":\"auto\",\"active_scroll\":\"auto\",\"active_tap\":\"auto\",\"tools\":[{\"id\":\"c2b566f1-7fd0-48e1-b771-86d6f0499e15\",\"type\":\"PanTool\"},{\"id\":\"53a0fc50-9e1a-4819-88dd-a6a06937251a\",\"type\":\"WheelZoomTool\"},{\"id\":\"290839b5-5b6d-45b1-8f86-a1bf1965c2c7\",\"type\":\"BoxZoomTool\"},{\"id\":\"600cd0f4-809a-4955-818f-4982d7f1b124\",\"type\":\"SaveTool\"},{\"id\":\"5cac44b9-7fd1-4c93-b61b-8f39b93bdb73\",\"type\":\"ResetTool\"},{\"id\":\"7b8a15a6-4107-4b24-83df-cff5954f618e\",\"type\":\"HelpTool\"}]},\"id\":\"8289bd5a-e185-4735-bf57-554e85652ce0\",\"type\":\"Toolbar\"},{\"attributes\":{\"fill_alpha\":{\"value\":0.1},\"fill_color\":{\"value\":\"#1f77b4\"},\"line_alpha\":{\"value\":0.1},\"line_color\":{\"value\":\"#1f77b4\"},\"size\":{\"units\":\"screen\",\"value\":7},\"x\":{\"field\":\"x\"},\"y\":{\"field\":\"y\"}},\"id\":\"e456c010-54d1-4196-816b-8ebb8e24aad9\",\"type\":\"Circle\"},{\"attributes\":{\"callback\":null},\"id\":\"ad10b078-25d5-44b9-af63-54407439d851\",\"type\":\"DataRange1d\"},{\"attributes\":{\"callback\":null,\"column_names\":[\"x\",\"y\"],\"data\":{\"x\":{\"__ndarray__\":\"Q6wGQWZXLkFrcpJBgv4iQYEl1EALRIVBkfaBQfCO2ECytEVBXEpyQWbyTUGYG1pBijt6QdOWK0HNf1JBtffwQAmbF0GldINBR40TQQ/KLEG8Sz5BjmmSQUvJhEHT2GtBh6dLQc6UNEH8VhdBg92IQfRsU0Gi2hdBIZNUQaUZj0EM7fpAytd7QXbJKUFQ04FB/Tfpwf+pd0HBpI1Ba4qGQbeAgUGuIBhBlHMPQRkkZ0HqhTJBLC8AQWA3X0E8TRJBGwuMQYPylEEzR4RBU2QWQRTceEHCzw5BcGd8QbrsXUEP2Y5BtkZKQenmUUFHfy1BvpU5QaypekHjVlJBF09yQR3xSEGqcXJBCPgYQTW/hkHKXoBBI50kQcl5aUEJRhdB9LMrQeatCUG2lBhBzEA2QUYbbUEiCXVBJ/JFQZ1YYEEOSpRBZjGNQRJodkF81WJBPp+SQaKILUFa6dhAa4qQQe1oe0FV3HRBs4RkQc8UEkHsAIlB/cAIQVkoQUFr6YJBgPQlQd0r9kDwZkxBi3tfQTXNDkG2S1xBf6MGQceuVkGX3RxBZG1BQflqR0FH0I1B2OWCQVBFf0E3JVtBkwgKQQ==\",\"dtype\":\"float32\",\"shape\":[112]},\"y\":{\"__ndarray__\":\"6w8xwljHNMK2sy3CWJtKwsmCQMJcKjbC1tEnwqESQcJQ9CjCLz5Ewk4AIcIk4C7C7eU0wraQQMIygSPCKqdMwjyqPcKRnkbCI+gpwjT7TML8SjjCixA/wqHfKsKoginCXowswpMIKMKcMizCcF8xwk4/J8LO6j/CQ6sqwoyiNcLWnTXCchoiwvFrL8JhTjfCVur5QEaTRcKNSSvCfLA6wvynTcJ1yU7CKzo1wsPfQMIBuDzC0k9JwjisIsIbbVDCGAIvwuGXMcJbzyvCusgzwgIDLcJzulHCTQ9IwhaTQ8KqTj3CVVc8wlHgMMJRVknC1NZAwjt+IsJNISbCH4YgwtAyScKQ9DvCa305wr6bP8IfYC/CVmYrwiE6L8IMdELC6hNRwu7yO8KtrjDCWs9QwgdrQsJ4rjLCEfJGwpVTSMJZMTrCauI6wlgdT8IKyE/CPKY1wnMROcI1mz/Cls9HwqEVTcKfGEDCI9c3wv4OGMJDSCrCjpZEwuO2MsIw20LC/A9Bwl3JSsIAYkzCERo/wkRzS8IJL0XCN380wiLlNcJEUzbCTawlwt/DIMKqqzvCaDhOwgIGJsJP6i3CKeKzwQ==\",\"dtype\":\"float32\",\"shape\":[112]}}},\"id\":\"3948083a-e5cc-4a0a-953f-6c76a87ab9f4\",\"type\":\"ColumnDataSource\"},{\"attributes\":{\"source\":{\"id\":\"3a7ce8eb-701e-422e-b377-ff4e84bc5800\",\"type\":\"ColumnDataSource\"}},\"id\":\"60057426-584c-498c-a059-769c728b7be6\",\"type\":\"CDSView\"},{\"attributes\":{\"source\":{\"id\":\"3948083a-e5cc-4a0a-953f-6c76a87ab9f4\",\"type\":\"ColumnDataSource\"}},\"id\":\"275fa13a-03c0-4e74-b297-7ef3be038aef\",\"type\":\"CDSView\"},{\"attributes\":{\"callback\":null},\"id\":\"8a4c06dc-1ab8-43e4-a670-f8a20e1e0c91\",\"type\":\"DataRange1d\"},{\"attributes\":{\"label\":{\"value\":\"6\"},\"renderers\":[{\"id\":\"1eba29c4-3b0f-4e5e-b9f2-5d585db876eb\",\"type\":\"GlyphRenderer\"}]},\"id\":\"13d94485-2e10-42cc-9f89-8b8e9e2192cd\",\"type\":\"LegendItem\"},{\"attributes\":{\"fill_alpha\":{\"value\":0.4},\"fill_color\":{\"value\":\"black\"},\"line_alpha\":{\"value\":0.4},\"size\":{\"units\":\"screen\",\"value\":7},\"x\":{\"field\":\"x\"},\"y\":{\"field\":\"y\"}},\"id\":\"9bc12196-7210-4573-b1fb-a92c41492e00\",\"type\":\"Circle\"},{\"attributes\":{},\"id\":\"266ee58c-414a-44ae-a975-c6df637f5aef\",\"type\":\"LinearScale\"},{\"attributes\":{},\"id\":\"e2c457e8-256f-44c5-93fa-7aec4e426e73\",\"type\":\"LinearScale\"},{\"attributes\":{\"data_source\":{\"id\":\"3948083a-e5cc-4a0a-953f-6c76a87ab9f4\",\"type\":\"ColumnDataSource\"},\"glyph\":{\"id\":\"9bc12196-7210-4573-b1fb-a92c41492e00\",\"type\":\"Circle\"},\"hover_glyph\":null,\"muted_glyph\":null,\"nonselection_glyph\":{\"id\":\"3170b3d8-1952-4dfb-a911-07cabd94246e\",\"type\":\"Circle\"},\"selection_glyph\":null,\"view\":{\"id\":\"275fa13a-03c0-4e74-b297-7ef3be038aef\",\"type\":\"CDSView\"}},\"id\":\"1eba29c4-3b0f-4e5e-b9f2-5d585db876eb\",\"type\":\"GlyphRenderer\"},{\"attributes\":{\"formatter\":{\"id\":\"07b2236f-305f-44d4-8a29-057fa4038214\",\"type\":\"BasicTickFormatter\"},\"plot\":{\"id\":\"1f3cd187-5ca0-46e9-9544-53d8bfd88449\",\"subtype\":\"Figure\",\"type\":\"Plot\"},\"ticker\":{\"id\":\"9768f879-8227-4e6b-a9b8-74160455dd2d\",\"type\":\"BasicTicker\"}},\"id\":\"3375ad73-219a-41ca-8dcf-1dff4cdbe0c7\",\"type\":\"LinearAxis\"},{\"attributes\":{\"fill_alpha\":{\"value\":0.1},\"fill_color\":{\"value\":\"#1f77b4\"},\"line_alpha\":{\"value\":0.1},\"line_color\":{\"value\":\"#1f77b4\"},\"size\":{\"units\":\"screen\",\"value\":7},\"x\":{\"field\":\"x\"},\"y\":{\"field\":\"y\"}},\"id\":\"7d4ddc3b-db36-45b1-a6f8-5f799dc5f7e4\",\"type\":\"Circle\"},{\"attributes\":{\"fill_alpha\":{\"value\":0.1},\"fill_color\":{\"value\":\"#1f77b4\"},\"line_alpha\":{\"value\":0.1},\"line_color\":{\"value\":\"#1f77b4\"},\"size\":{\"units\":\"screen\",\"value\":7},\"x\":{\"field\":\"x\"},\"y\":{\"field\":\"y\"}},\"id\":\"3170b3d8-1952-4dfb-a911-07cabd94246e\",\"type\":\"Circle\"},{\"attributes\":{},\"id\":\"9768f879-8227-4e6b-a9b8-74160455dd2d\",\"type\":\"BasicTicker\"},{\"attributes\":{\"fill_alpha\":{\"value\":0.4},\"fill_color\":{\"value\":\"purple\"},\"line_alpha\":{\"value\":0.4},\"line_color\":{\"value\":\"purple\"},\"size\":{\"units\":\"screen\",\"value\":7},\"x\":{\"field\":\"x\"},\"y\":{\"field\":\"y\"}},\"id\":\"71b5c58e-ddad-4f47-a1fd-75875044fe42\",\"type\":\"Circle\"},{\"attributes\":{\"plot\":{\"id\":\"1f3cd187-5ca0-46e9-9544-53d8bfd88449\",\"subtype\":\"Figure\",\"type\":\"Plot\"},\"ticker\":{\"id\":\"9768f879-8227-4e6b-a9b8-74160455dd2d\",\"type\":\"BasicTicker\"}},\"id\":\"16072878-acc1-4f41-b28a-3f368c9508a6\",\"type\":\"Grid\"},{\"attributes\":{\"source\":{\"id\":\"3cbf452e-4e0a-463a-b540-3e44a95901b6\",\"type\":\"ColumnDataSource\"}},\"id\":\"3360e4bb-d051-40e9-ac2d-b2402c23d467\",\"type\":\"CDSView\"},{\"attributes\":{\"formatter\":{\"id\":\"47029020-0bd9-46d2-bc01-49f401647c92\",\"type\":\"BasicTickFormatter\"},\"plot\":{\"id\":\"1f3cd187-5ca0-46e9-9544-53d8bfd88449\",\"subtype\":\"Figure\",\"type\":\"Plot\"},\"ticker\":{\"id\":\"b956a87f-00c7-4ac3-80e0-035e556b22f9\",\"type\":\"BasicTicker\"}},\"id\":\"c3aed7c4-a78e-4896-8960-d57f587cc015\",\"type\":\"LinearAxis\"},{\"attributes\":{\"label\":{\"value\":\"7\"},\"renderers\":[{\"id\":\"a82109ab-802f-4d07-867c-47968b53ffe8\",\"type\":\"GlyphRenderer\"}]},\"id\":\"73835eee-6446-41d6-81e4-1380375b8f11\",\"type\":\"LegendItem\"},{\"attributes\":{},\"id\":\"b956a87f-00c7-4ac3-80e0-035e556b22f9\",\"type\":\"BasicTicker\"},{\"attributes\":{\"callback\":null,\"column_names\":[\"x\",\"y\"],\"data\":{\"x\":{\"__ndarray__\":\"BhQjwQPr8MD0t+HAPKNMweDA8sBtNkzAKfIRwRN8BcE8r7HA/TI/wZQuk8DN55zAOu4QwX9eQ8GZmYFBlOsuweVYL8FFMCDB1cJBwXt00cChy0nBEMsSwd2CRMEniwvBoo/0wLBSIcHXezTBrGohwQ9vm8A7m1XBmRcKwaSWF8F16UTBcWAdwQRKisDraGrBpiQ8wRMOasH6QwjC/vo4wf55E8FVjUbBJ7XZwBidKMGyDvjAU34CwZrGbMH2cA7BOZ/+wOPm28DvGj7BcOV9wLBHAsEYaiPBJUtewej+VcGekvzAh3JiwagPZcG+W4vAcBs0wbqHGsFJYyLBKnP+wM1dZ8Eq+knBIWZMwfM6CMG6O2/Ay08nwfrV2sCNDhzB9m+RwH/qUcF6Wi/BcgY8wezezsBGtLbA8e3PwAg4RMHzsCzBGM4mwdOOJcE/aLXAljiEwLnzc8E6tYHAOQ+ywLSUEMBk0iTB0TJBweesP8G1OFPBPTorwQ==\",\"dtype\":\"float32\",\"shape\":[94]},\"y\":{\"__ndarray__\":\"Kx4RQo+1JkKqzy9C6hIYQr8yIkJwbipCyEgfQmp9EEL7dyhCtfgJQjvoIUL3YS9CI8wBQluPC0LE211An/cHQttADkJcPStCZBoWQqI5LUJuUClCP6ItQnZCLULhqSRCj/YqQmACJkIKbRdCxhoqQo3BMkJNUQlCaVEnQpAJCkJNDCJC6MwXQhpsJ0KSnwJCZhsWQvcOA0IJxlFBvdMuQuUnE0I3wCtCBlcnQsaIKUIHPQ1CbKsnQlcUF0KDeQxC0gYxQl+RIUJznyFCDbomQoZ9LEIeMw1C/3UHQpYOG0JDUx1C7mILQsdkHkLQDB9C8UEnQh3TD0KZ1iFCaiQYQmHeEkIfExBCa1AVQht4JELLPRlCTMgeQr1eKUIQJiJCyQcpQqEuHELrXhBCSegMQhDzEUI70CNC9+odQr7QDkIYYwFCymgWQqSxEkKB8y5CTugbQl63DELHPilCB9gqQgJoKkJcGgtCyu0cQo41/UHrOhtC03UEQg==\",\"dtype\":\"float32\",\"shape\":[94]}}},\"id\":\"3cbf452e-4e0a-463a-b540-3e44a95901b6\",\"type\":\"ColumnDataSource\"},{\"attributes\":{\"dimension\":1,\"plot\":{\"id\":\"1f3cd187-5ca0-46e9-9544-53d8bfd88449\",\"subtype\":\"Figure\",\"type\":\"Plot\"},\"ticker\":{\"id\":\"b956a87f-00c7-4ac3-80e0-035e556b22f9\",\"type\":\"BasicTicker\"}},\"id\":\"cc216ee4-0035-48b7-a051-be68741ff1f8\",\"type\":\"Grid\"},{\"attributes\":{\"data_source\":{\"id\":\"3cbf452e-4e0a-463a-b540-3e44a95901b6\",\"type\":\"ColumnDataSource\"},\"glyph\":{\"id\":\"71b5c58e-ddad-4f47-a1fd-75875044fe42\",\"type\":\"Circle\"},\"hover_glyph\":null,\"muted_glyph\":null,\"nonselection_glyph\":{\"id\":\"5945f024-5224-4f6e-b327-895cc9270fc0\",\"type\":\"Circle\"},\"selection_glyph\":null,\"view\":{\"id\":\"3360e4bb-d051-40e9-ac2d-b2402c23d467\",\"type\":\"CDSView\"}},\"id\":\"a82109ab-802f-4d07-867c-47968b53ffe8\",\"type\":\"GlyphRenderer\"},{\"attributes\":{\"bottom_units\":\"screen\",\"fill_alpha\":{\"value\":0.5},\"fill_color\":{\"value\":\"lightgrey\"},\"left_units\":\"screen\",\"level\":\"overlay\",\"line_alpha\":{\"value\":1.0},\"line_color\":{\"value\":\"black\"},\"line_dash\":[4,4],\"line_width\":{\"value\":2},\"plot\":null,\"render_mode\":\"css\",\"right_units\":\"screen\",\"top_units\":\"screen\"},\"id\":\"63ecdb89-361d-4922-9858-f64a903e4443\",\"type\":\"BoxAnnotation\"},{\"attributes\":{\"fill_alpha\":{\"value\":0.1},\"fill_color\":{\"value\":\"#1f77b4\"},\"line_alpha\":{\"value\":0.1},\"line_color\":{\"value\":\"#1f77b4\"},\"size\":{\"units\":\"screen\",\"value\":7},\"x\":{\"field\":\"x\"},\"y\":{\"field\":\"y\"}},\"id\":\"5945f024-5224-4f6e-b327-895cc9270fc0\",\"type\":\"Circle\"},{\"attributes\":{\"callback\":null,\"column_names\":[\"x\",\"y\"],\"data\":{\"x\":{\"__ndarray__\":\"CQSZwL+lp8B1ZNS/cYQNwZCIsMDHIZI+fATDvnLm+cARcwhAQWwrP8zBxcBBVInA9VZmv9GvBMGbdKPADCSUwOzUn8CnI7bAwTpYwD6LG8FXVR/Bbuf8wP5KJ8G8x5u+E0amPzwp6sD/Ob+/M2kBwbeUx8AnMMbA+3DyPh+M3sAdu/vAddWPwGMigUBZbtjAukEkwDp5bsAUBcO/feGBwAEXw7934uzAAdEVwTOF+sAVCOLARh/2v3Tv5b+HMOXAQroTwGyJsj6Iza3AAx9DwC8IYL9wbR/AuN/ZwHIlGcF2xF7AIgshwSrmlMD7eHY9j5YBwUu/ScCRq47ANfbYwN/n0cBo7Q7Br2xrwFmLysATUNrAJ62hwJyrlcD1SxbBrYGywaqcn79+B8Y/KSd1wEUHfcDlW6U/gygDwHxzv7+wBLLAlrSdQJbZ38CsFLnAj9QKwfEsYMDpR2LAcWALwQNND8F6/3PAR1Djv6EbTcBGH3O/8XUcv1RJhcB5kOnAjWPOwIGf8MC9RwjBvJm6wDfd0cAnkdG/BCcIQbSryD5UcqQ/NC7SwA==\",\"dtype\":\"float32\",\"shape\":[106]},\"y\":{\"__ndarray__\":\"jNefwCKA/sCakLrAnnEEwXbaBcGisQbBvH7jvqkXBsGAuajALFhYwMKVnMDcv+/AlGJUwBlWnMBaZ0nAuazUwDaxIT8M6EnAq+mOwLk888BMzP2/0PxWwGt6psDiLufAZemlwIdjiMCvIxO/nJWowDizwb+9xiDBe+y4wIKswL2QQKe/7S9wv5J9D8DnDDhAvtUlwcHftsBwQdvAPQezv3CKq8B6VcXAEQ/vwOUY6cCLbw/BD90LwdqeE8GLLRvAlfsawTeSjMCVxuPAlMTTwAuZFMD3JKLAvn7/v9xdT8B+KIvAbfJcwOgz/L58MwvBl6QwwJfGx7+UKArBYdyqwHexWsDSlhfAj8PhwJankMDH2KY/AwqcwJcvJcFkYBTBAAeJwYOuwj9NpavAZdCxwNa3Q8DMphHBZwckwG5YTD8j1te+TDMZwY3cdz95RLm/xdWIwF7yRsCC/gjBEbu5wKClBcH/Ocu95L8XwIlHBcD+Oi7BXaQ7wEjQFsAFLVfA1vgZwTq9vcCZTAHA5vcKwVNpxcCTxC2+otmowXWHhsBO5uLARlwdwQ==\",\"dtype\":\"float32\",\"shape\":[106]}}},\"id\":\"edc2b15c-05af-4594-b12d-4a83938c66a3\",\"type\":\"ColumnDataSource\"},{\"attributes\":{\"source\":{\"id\":\"edc2b15c-05af-4594-b12d-4a83938c66a3\",\"type\":\"ColumnDataSource\"}},\"id\":\"f12bdd0e-b5cf-4dcb-a516-e4af0a21dd15\",\"type\":\"CDSView\"},{\"attributes\":{\"label\":{\"value\":\"8\"},\"renderers\":[{\"id\":\"ef844c68-5dc4-4166-a7de-c35016a2f46d\",\"type\":\"GlyphRenderer\"}]},\"id\":\"266f9afb-ce62-47dd-9fb4-945db8010569\",\"type\":\"LegendItem\"},{\"attributes\":{},\"id\":\"c2b566f1-7fd0-48e1-b771-86d6f0499e15\",\"type\":\"PanTool\"},{\"attributes\":{\"fill_alpha\":{\"value\":0.4},\"fill_color\":{\"value\":\"coral\"},\"line_alpha\":{\"value\":0.4},\"line_color\":{\"value\":\"coral\"},\"size\":{\"units\":\"screen\",\"value\":7},\"x\":{\"field\":\"x\"},\"y\":{\"field\":\"y\"}},\"id\":\"b913ecb6-44f6-4149-b49a-c20983b8612b\",\"type\":\"Circle\"},{\"attributes\":{},\"id\":\"53a0fc50-9e1a-4819-88dd-a6a06937251a\",\"type\":\"WheelZoomTool\"},{\"attributes\":{\"data_source\":{\"id\":\"edc2b15c-05af-4594-b12d-4a83938c66a3\",\"type\":\"ColumnDataSource\"},\"glyph\":{\"id\":\"b913ecb6-44f6-4149-b49a-c20983b8612b\",\"type\":\"Circle\"},\"hover_glyph\":null,\"muted_glyph\":null,\"nonselection_glyph\":{\"id\":\"35c8e867-d395-4c27-93af-7204a2a73539\",\"type\":\"Circle\"},\"selection_glyph\":null,\"view\":{\"id\":\"f12bdd0e-b5cf-4dcb-a516-e4af0a21dd15\",\"type\":\"CDSView\"}},\"id\":\"ef844c68-5dc4-4166-a7de-c35016a2f46d\",\"type\":\"GlyphRenderer\"},{\"attributes\":{\"overlay\":{\"id\":\"63ecdb89-361d-4922-9858-f64a903e4443\",\"type\":\"BoxAnnotation\"}},\"id\":\"290839b5-5b6d-45b1-8f86-a1bf1965c2c7\",\"type\":\"BoxZoomTool\"},{\"attributes\":{\"fill_alpha\":{\"value\":0.1},\"fill_color\":{\"value\":\"#1f77b4\"},\"line_alpha\":{\"value\":0.1},\"line_color\":{\"value\":\"#1f77b4\"},\"size\":{\"units\":\"screen\",\"value\":7},\"x\":{\"field\":\"x\"},\"y\":{\"field\":\"y\"}},\"id\":\"35c8e867-d395-4c27-93af-7204a2a73539\",\"type\":\"Circle\"},{\"attributes\":{},\"id\":\"600cd0f4-809a-4955-818f-4982d7f1b124\",\"type\":\"SaveTool\"},{\"attributes\":{\"fill_alpha\":{\"value\":0.4},\"fill_color\":{\"value\":\"lime\"},\"line_alpha\":{\"value\":0.4},\"line_color\":{\"value\":\"lime\"},\"size\":{\"units\":\"screen\",\"value\":7},\"x\":{\"field\":\"x\"},\"y\":{\"field\":\"y\"}},\"id\":\"ac11a8d6-70be-4a4f-a289-b8be101c6107\",\"type\":\"Circle\"},{\"attributes\":{},\"id\":\"5cac44b9-7fd1-4c93-b61b-8f39b93bdb73\",\"type\":\"ResetTool\"},{\"attributes\":{\"source\":{\"id\":\"8dda8c87-0f44-4bac-9476-a4c4a47cc81f\",\"type\":\"ColumnDataSource\"}},\"id\":\"5d227fd7-1f5d-429b-b92d-54bca692febe\",\"type\":\"CDSView\"},{\"attributes\":{},\"id\":\"7b8a15a6-4107-4b24-83df-cff5954f618e\",\"type\":\"HelpTool\"},{\"attributes\":{\"label\":{\"value\":\"9\"},\"renderers\":[{\"id\":\"6eb99ce0-a187-4ed9-a861-385ad47c3696\",\"type\":\"GlyphRenderer\"}]},\"id\":\"8dc49b4f-cd35-4340-ac20-dc81d2fc8899\",\"type\":\"LegendItem\"},{\"attributes\":{\"callback\":null,\"column_names\":[\"x\",\"y\"],\"data\":{\"x\":{\"__ndarray__\":\"S9Y4QYOJDUH/6Q5BdYpNQaaiBEE66Q5BasMdQTe/ikAMBUxBcNUnQQ3eJEF4ux1B+7hTQeuT+EC1a8RAB/VKQWq+IkHgK/hAzvsdQcDsnkGe5ypBy9M4QWQyxUHPeFNB5tbkQPhMhEDIQDVBlIc0QfoNDUF5RglBVnRaQUssckGJo3ZA3tk3QTiXEEH9sshAlGY2QWtfpkHZS4pB/bnqQNEwj0D02jZBS2SUQHCOHUFfKDtB+ouCQd2UDUEZeBdBOHsxQTDjE0EMXMxAJB8/QQylXkEQ0M9AVbg9QYEJUUE9SgtBouPaQAFMS0HhCF1Bbrz8QLjfBEEtZTZB1aIhQRe6a0DzYEpBwaqAQK3iJ0GViVpBDz7vQPkqx8BX3B1BOOpdQX7gIsHcrkBBPeRCQQXXJ0GMW9hA6+zpQHUROkH0lTNB315oQTX0MkERqKTBRJz5QAZkrUCPydxAnHsCQc1uN0GQdLhAam0ZQeEIP0ENkvdAhNBWQQ==\",\"dtype\":\"float32\",\"shape\":[94]},\"y\":{\"__ndarray__\":\"9yqgQQIetkH/z6pBr82yQfvy20Fr/blBjGaoQSr5yUFyzcJBJlWoQd+X2kE7bOdBvobAQXy+qkFBSN1B4nbQQYIzu0G7P7dBngHSQYTSwUCbjrVBFnOrQbbTG8ADL9xBs+XDQdoLvUFSN9VBR4jKQcyQ3kH3T9dB3KmeQTIlrEHjWsVBWZDnQXR7sEGyRbNBe8znQRQ3tEBzROZBnJWxQfYyuEHciZdBIPuwQeXlxkG4oL9BXxzVQfA6zkHHwdNBMbjNQchX5kGVNrtBOYrUQb4ZpUGL9tpB3ovQQb2hyUGdhr9BDOPqQfMxrEHY/L9BtsunQfGi9EFWRaJBPirMQckUyEFRKdlBDGvAQVD6tEELd7hBNcrsQYqqCkJF4s9BV+rIQf6H+MHdLKtBdlTtQYh+q0GC56NBLKCoQTYl70HmCe5B/USrQeNiwkEPRT1BIbTvQf3Wx0Ht0btB6Db0QffvwUGc+cFBHzqgQQXf30Hba8xBtASpQQ==\",\"dtype\":\"float32\",\"shape\":[94]}}},\"id\":\"8dda8c87-0f44-4bac-9476-a4c4a47cc81f\",\"type\":\"ColumnDataSource\"},{\"attributes\":{\"data_source\":{\"id\":\"8dda8c87-0f44-4bac-9476-a4c4a47cc81f\",\"type\":\"ColumnDataSource\"},\"glyph\":{\"id\":\"ac11a8d6-70be-4a4f-a289-b8be101c6107\",\"type\":\"Circle\"},\"hover_glyph\":null,\"muted_glyph\":null,\"nonselection_glyph\":{\"id\":\"f0228aa2-99e2-4599-a8e5-c51d4fc5cf52\",\"type\":\"Circle\"},\"selection_glyph\":null,\"view\":{\"id\":\"5d227fd7-1f5d-429b-b92d-54bca692febe\",\"type\":\"CDSView\"}},\"id\":\"6eb99ce0-a187-4ed9-a861-385ad47c3696\",\"type\":\"GlyphRenderer\"},{\"attributes\":{},\"id\":\"07b2236f-305f-44d4-8a29-057fa4038214\",\"type\":\"BasicTickFormatter\"},{\"attributes\":{\"fill_alpha\":{\"value\":0.1},\"fill_color\":{\"value\":\"#1f77b4\"},\"line_alpha\":{\"value\":0.1},\"line_color\":{\"value\":\"#1f77b4\"},\"size\":{\"units\":\"screen\",\"value\":7},\"x\":{\"field\":\"x\"},\"y\":{\"field\":\"y\"}},\"id\":\"f0228aa2-99e2-4599-a8e5-c51d4fc5cf52\",\"type\":\"Circle\"},{\"attributes\":{\"callback\":null,\"column_names\":[\"x\",\"y\"],\"data\":{\"x\":{\"__ndarray__\":\"T92SwUaPK8HklyjBjehNwTxnPsFGE+XAXRiSwRsMmsHk52fBAOFpwY3cUMFISSDBRV5CwRadjMG/cIDBkhk7wSlTZ8G/QbrBNftqwfjpecGqDUvB0HCDwW7PSsGLqk7B7sg0wSDkbsFPEzDBfxEiQSRjOsEe2GvBG2F5wUWvc8GTRhjBycWMwdk7m8EiIXnBoqyVwQWCicHqmp/BGlpywdY3wMClr4rB9QGGwTttnMFxSn/BQJFcwf1/h8FpU4TB366IwTHeUsGkBUzBlVyewVpRS8FoYXjBJfJ3wTVugMG9ATbBiItlwXVOh8GYj3zBX1aXwclIQME5VpXBStIQwekNlMGq5VDBCYNgwRWpKcHn5SDB8lobwRFCWMEBB2jBlz0rwZk4QMFMz1jBDacQwUhBNsGIWl7BFAhswYJycMEaWnDBeOVewXysWMEHNkPBmaOFwYb9bMEc+xDBxAVKwZI6SMFgWDDBp3oRwaTXKsHkmG3BuIl7wbJYvcBCwYzB\",\"dtype\":\"float32\",\"shape\":[96]},\"y\":{\"__ndarray__\":\"b/8owsjGD8IcaRbCDAwjws2qI8LEFiPCzkctwgyiHMIxqAvC6nMuwjEJIMIXfRzCH+sMwkbEJ8KsaQvCemwlwkBADML3uYbBrVIYwmm7JcJ9IwDCWbELwhUI/8FYhinCHWkbwvqoB8L9IBXCJrcbwuh/GMIc8g/C2Fwfwn+PIcK1xwrCxOMLwkGyIcJzXh7C2NAiwnSQFsL80iPCGUszwtB3JMLFbyTC+XIXwgOgJcLyKwzCiSAewjm1JMJcyCXC0tUMwiaJI8IgUAnCIDgpwoiMEMLNtBTCqz8dwijMD8KzjRnC5AItwhTmGsLWZQTCftYewsdVJsK3JCbCdskmwoEeHcIStgzCBpUUwhNcJMIjIynCo1cZwhliF8Ig5TDCLcsUwh3nLML+kBXCQ+8JwklYKMJXgQrC4VIjwlg+J8LariXCdhIuwi++JcIblQjCseQcwu6HGMImrRHCstsownG7EcJDhivCTIsQwoHGEcJN9QzCpyAqwvB9JMIdiRTC\",\"dtype\":\"float32\",\"shape\":[96]}}},\"id\":\"3a7ce8eb-701e-422e-b377-ff4e84bc5800\",\"type\":\"ColumnDataSource\"},{\"attributes\":{\"data_source\":{\"id\":\"3a7ce8eb-701e-422e-b377-ff4e84bc5800\",\"type\":\"ColumnDataSource\"},\"glyph\":{\"id\":\"713d9caf-9d9a-4aaf-859e-8ee22aea42fc\",\"type\":\"Circle\"},\"hover_glyph\":null,\"muted_glyph\":null,\"nonselection_glyph\":{\"id\":\"7d4ddc3b-db36-45b1-a6f8-5f799dc5f7e4\",\"type\":\"Circle\"},\"selection_glyph\":null,\"view\":{\"id\":\"60057426-584c-498c-a059-769c728b7be6\",\"type\":\"CDSView\"}},\"id\":\"2e2fb961-f697-4df9-b61f-738845cf0376\",\"type\":\"GlyphRenderer\"},{\"attributes\":{\"plot\":null,\"text\":\"\"},\"id\":\"e91be422-cbb5-45f8-85e5-2398c8ef1345\",\"type\":\"Title\"},{\"attributes\":{\"callback\":null,\"column_names\":[\"x\",\"y\"],\"data\":{\"x\":{\"__ndarray__\":\"//UIwrnSGMICWQHCONfUwbxIz8E4Bg/CVRTmwQSF5sHgWRvCPlYnwhOo7cFuYRTC2uMcwtNd3cEyR9XB+kfiwQb/ysHQw8vB/4jcwXN61MEFa9bB67/rwanZ1MFbRA7C7/jGwQDfA8KdO+jBq5/swbOUAMK6OgvChz0TwpH4tMFCGRzCNBjVwaF7DsLflCTC4in6wdKrB8LhB7nBPNW2wbAk9MFnqM7BKvXmwYKD7cHzC+nBfY4Ewl3vDMILghTC1ffjwXU8GMIc3fbB/ekWwoQwEMIaBd/BxiDMwfX5GcKZUQrC4ffGwV+HxsHoWejBe4EdwpayCMJ4cQzCPZcjwlSF/sELGcrBvQHwwTyT88EV7O/BparAwcqI8ME1MsTB/BURwgtIz8ERu7XBVeTdwc+iy8Fn4gLCm1Ejwq9o08FrTfTBzVzBwbRUG8IVgdzBs+3pwY3e4sFRAiHCygHKwVu0GMIIseHBtLrQwdZc28EwAM/BUMgSwm8EysFKxCPCl7YZwvvU0sHAFtzBHF/lwez4+8Fd+OXB3OPRwToMrsHWjBvCCH0DwsBQ08HnurvBJRMfwmkdE8JXy8LBiZjFwXqMEMI1XgvCxLfhwWkRAcIia+/Bil8HwgEZDcJC/wDC1DvKwQ==\",\"dtype\":\"float32\",\"shape\":[121]},\"y\":{\"__ndarray__\":\"jnDoQCKlLUFmvhZBiw87QfNLnEHZcytB2tGGQY5YNEH4+DdBX8QQQciu0kD2FANBQ+EEQbBWjkHkyoJBhCZhQeLKiUEs7lNBX76MQVt7W0ECjKNBMT8BQdmebUFVqSRBQ841QcWI5UCix55BU92dQYJFK0GzUTtBzIpAQcL0VkFijRFBC7ygQRNjCkFRRwNBS1QsQWBmC0Fjgn9BOO9eQUHxfkEZPWVBBExkQbMpYEEtZilBDiMPQeXNO0HUAfRAy5I4QWFW3EBagnNBauQLQWWvLEF4Op9B1UaQQS4DIkGLDMpAyYmNQTuhkkEwV11BKm8tQVFjFUGsxyJBKs8EQWGoRkGproBB0DNOQdYRMkGdZiVBf8JqQbi5nUGvbUxBXLQ5QWyZX0HbsllBXUdGQfLWYEG+CxxBzWcSQfvehUF545BBcwhzQat8G0Eu4k1Bi0xNQZSMO0GcRhFBMzOUQXEUFEGqmqBBj2KRQbvFaEFJ+oRBtosHQTnmm0GcOQ5BXKANQUXQOEFPUUNBUhlFQT2BHkFOP4dBhI+MQZeGZUE7bfBAO14FQb4Ll0HwlUFBnQUdQb9EJUFL6U5BDqCXQQ6ZHEGGlyBBu8FtQTBKEkEwqz9B0hYgQTBfQEEO/TxBshR0QQ==\",\"dtype\":\"float32\",\"shape\":[121]}}},\"id\":\"96355816-7c48-4c55-bf6a-2734369603ea\",\"type\":\"ColumnDataSource\"},{\"attributes\":{},\"id\":\"47029020-0bd9-46d2-bc01-49f401647c92\",\"type\":\"BasicTickFormatter\"},{\"attributes\":{\"label\":{\"value\":\"0\"},\"renderers\":[{\"id\":\"2e2fb961-f697-4df9-b61f-738845cf0376\",\"type\":\"GlyphRenderer\"}]},\"id\":\"b7519c57-66fa-4782-a7a3-3d4fba9832e3\",\"type\":\"LegendItem\"},{\"attributes\":{\"callback\":null,\"column_names\":[\"x\",\"y\"],\"data\":{\"x\":{\"__ndarray__\":\"AVnowcUx2sE9igTCAhfZwY0D+8HxPOzBBo8IwvAh68Fj0AHCnHXewYtRzcFJ6cLBKqbiwSTww8FHXOzBiB9BwTWHwcEOYAjCmhDswZ648cEXHf7BWEPlwYuqzsHngf/BtEf2wVxS/cHEcPnB6j8CwjkQ78FItsvBJ8Dswcz46sGNzMvBXX0LQQGw0sHatcjBzkzlwUgO9MGMMQjCX2AIwns8wcFiqOLBO4vXwZwF4sGRcfbBjnj6wYpY5MF/n+HBQRD3wWW998HDgADCHu0JwgiV/8EJFMDBGVf8wYKs1cETOgbC3VjfwVRLB8JKOgbC//DSwXR998Fn9OHBBVvnwfQd6sEYPAHCXCzLwQi23cHYkQHC52Pnwbye58FxQebB5/x1wQIJ58HAFAfCvYbcwXby9cFf7f3BF9D0wW7I6sEXKUzBRQLkwZ0V9MEt9uTAfdvRwdiEAcJ1AfLBrn/gwX9FBcJaccvBzY3zwSs+8sEteNfB\",\"dtype\":\"float32\",\"shape\":[93]},\"y\":{\"__ndarray__\":\"W+UIwaEng8ELmxLBoDZ1wc0fP8ERMBbBi9FJwal9csEpoS3BhO55wRD9FMEja4fBU6k0wV+jNMF2rIzByIn7QYnigcHR1k/B2IFRwTSqpsHSmBHB2aU2wclYUcGXdwHBJOETwar5NcHyJwhBOc5awYBOk8GwnCjBXAFPwb4gpsEcfBzBv0UhwtxOQsGbYQjBAtKLwZbsCMEYFwTBjg0qwXt7ZsFJRxfB/Qo+wSepccGwG5rBELRewbHmdMFzClnBUI2HwTLQj8FznVnBa/4qwRcwRsHd5F/BuTddweNKBMEcvgXBKkWSwZqHCcEzVRHBRf49wZp+z8Ad/pbBmHmiwcm0hcGMMCLBRxiAwQYOm8GAsiTBBVY5waPsmsFHZpbB1CAOQsDJksH0plXBHGFOwYBx6sAUpGDBmk6hwfUfj8HPefnBv3QawXVYosGD7gfC7I2BwWOMFcF45kzBE2oewe46NMHmUoTBIPWCwRt1lsHEaxPB\",\"dtype\":\"float32\",\"shape\":[93]}}},\"id\":\"8e0fef39-01ff-47b3-818a-52d14527791a\",\"type\":\"ColumnDataSource\"},{\"attributes\":{\"items\":[{\"id\":\"b7519c57-66fa-4782-a7a3-3d4fba9832e3\",\"type\":\"LegendItem\"},{\"id\":\"326d0c2a-f05a-40f0-a846-1cefe97201b6\",\"type\":\"LegendItem\"},{\"id\":\"8cae440e-a85f-4260-824b-1c8513cb5d68\",\"type\":\"LegendItem\"},{\"id\":\"2be6b7b8-6cce-459f-ad24-07c9d988a378\",\"type\":\"LegendItem\"},{\"id\":\"e5c6c7d1-4911-4157-b820-f6abd5544ff1\",\"type\":\"LegendItem\"},{\"id\":\"9462376a-4743-4ea3-b878-fe83ca774bb0\",\"type\":\"LegendItem\"},{\"id\":\"13d94485-2e10-42cc-9f89-8b8e9e2192cd\",\"type\":\"LegendItem\"},{\"id\":\"73835eee-6446-41d6-81e4-1380375b8f11\",\"type\":\"LegendItem\"},{\"id\":\"266f9afb-ce62-47dd-9fb4-945db8010569\",\"type\":\"LegendItem\"},{\"id\":\"8dc49b4f-cd35-4340-ac20-dc81d2fc8899\",\"type\":\"LegendItem\"}],\"location\":\"bottom_right\",\"plot\":{\"id\":\"1f3cd187-5ca0-46e9-9544-53d8bfd88449\",\"subtype\":\"Figure\",\"type\":\"Plot\"}},\"id\":\"1b1c4e1f-1d7c-4898-aef1-f92fd7b4fb37\",\"type\":\"Legend\"},{\"attributes\":{\"fill_alpha\":{\"value\":0.4},\"fill_color\":{\"value\":\"green\"},\"line_alpha\":{\"value\":0.4},\"line_color\":{\"value\":\"green\"},\"size\":{\"units\":\"screen\",\"value\":7},\"x\":{\"field\":\"x\"},\"y\":{\"field\":\"y\"}},\"id\":\"e1d48e82-dc5c-4504-9f4c-e71b39ca1020\",\"type\":\"Circle\"},{\"attributes\":{\"fill_alpha\":{\"value\":0.4},\"fill_color\":{\"value\":\"cyan\"},\"line_alpha\":{\"value\":0.4},\"line_color\":{\"value\":\"cyan\"},\"size\":{\"units\":\"screen\",\"value\":7},\"x\":{\"field\":\"x\"},\"y\":{\"field\":\"y\"}},\"id\":\"ceb03a21-0812-4349-b4f7-bfe36045e5f3\",\"type\":\"Circle\"},{\"attributes\":{\"fill_alpha\":{\"value\":0.1},\"fill_color\":{\"value\":\"#1f77b4\"},\"line_alpha\":{\"value\":0.1},\"line_color\":{\"value\":\"#1f77b4\"},\"size\":{\"units\":\"screen\",\"value\":7},\"x\":{\"field\":\"x\"},\"y\":{\"field\":\"y\"}},\"id\":\"4ae4aa19-51d4-4274-adab-bbc36e1ec3a1\",\"type\":\"Circle\"}],\"root_ids\":[\"1f3cd187-5ca0-46e9-9544-53d8bfd88449\"]},\"title\":\"Bokeh Application\",\"version\":\"0.12.13\"}};\n",
       "  var render_items = [{\"docid\":\"11eaa611-69d2-4995-ab22-b3c2495bfd34\",\"elementid\":\"1e0ea7aa-c344-4d5c-8a53-a60efb7e4249\",\"modelid\":\"1f3cd187-5ca0-46e9-9544-53d8bfd88449\"}];\n",
       "  root.Bokeh.embed.embed_items_notebook(docs_json, render_items);\n",
       "\n",
       "  }\n",
       "  if (root.Bokeh !== undefined) {\n",
       "    embed_document(root);\n",
       "  } else {\n",
       "    var attempts = 0;\n",
       "    var timer = setInterval(function(root) {\n",
       "      if (root.Bokeh !== undefined) {\n",
       "        embed_document(root);\n",
       "        clearInterval(timer);\n",
       "      }\n",
       "      attempts++;\n",
       "      if (attempts > 100) {\n",
       "        console.log(\"Bokeh: ERROR: Unable to run BokehJS code because BokehJS library is missing\")\n",
       "        clearInterval(timer);\n",
       "      }\n",
       "    }, 10, root)\n",
       "  }\n",
       "})(window);"
      ],
      "application/vnd.bokehjs_exec.v0+json": ""
     },
     "metadata": {
      "application/vnd.bokehjs_exec.v0+json": {
       "id": "1f3cd187-5ca0-46e9-9544-53d8bfd88449"
      }
     },
     "output_type": "display_data"
    }
   ],
   "source": [
    "p = figure(plot_width=600, plot_height=600)\n",
    "\n",
    "colors = [x for x in 'blue-green-red-cyan-magenta-yellow-black-purple-coral-lime'.split('-')]\n",
    "colors_map = colors_map[:1000]\n",
    "for cl in range(nb_classes):\n",
    "    indices = np.where(colors_map==cl)\n",
    "    p.circle(X_tsne[indices, 0].ravel(), X_tsne[indices, 1].ravel(), size=7, \n",
    "             color=colors[cl], alpha=0.4, legend=str(cl))\n",
    "\n",
    "# show the results\n",
    "p.legend.location = 'bottom_right'\n",
    "show(p)"
   ]
  },
  {
   "cell_type": "markdown",
   "metadata": {},
   "source": [
    "#### Note: We used `default` TSNE parameters. Better results can be achieved by tuning TSNE Hyper-parameters"
   ]
  },
  {
   "cell_type": "markdown",
   "metadata": {},
   "source": [
    "## Exercise 1: \n",
    "\n",
    "### Try with a different algorithm to create the manifold"
   ]
  },
  {
   "cell_type": "markdown",
   "metadata": {},
   "source": [
    "**Multi Dimensional Scaling** (aka [MDS](http://scikit-learn.org/stable/auto_examples/manifold/plot_mds.html)):\n",
    "\n",
    "For a comparison of different Manifold Learning algorithms, see the [manifold module page](http://scikit-learn.org/stable/auto_examples/manifold/plot_compare_methods.html) on the Scikit-learn Documentation."
   ]
  },
  {
   "cell_type": "code",
   "execution_count": null,
   "metadata": {},
   "outputs": [],
   "source": [
    "from sklearn.manifold import MDS"
   ]
  },
  {
   "cell_type": "code",
   "execution_count": null,
   "metadata": {},
   "outputs": [],
   "source": [
    "## Your code here"
   ]
  },
  {
   "cell_type": "markdown",
   "metadata": {},
   "source": [
    "## Exercise 2: \n",
    "\n",
    "### Try extracting the Hidden features of the First and the Last layer of the model"
   ]
  },
  {
   "cell_type": "code",
   "execution_count": null,
   "metadata": {},
   "outputs": [],
   "source": [
    "## Your code here"
   ]
  },
  {
   "cell_type": "code",
   "execution_count": null,
   "metadata": {},
   "outputs": [],
   "source": [
    "## Try using the `get_activations` function relying on keras backend\n",
    "def get_activations(model, layer, X_batch):\n",
    "    activations_f = K.function([model.layers[0].input, K.learning_phase()], [layer.output,])\n",
    "    activations = activations_f((X_batch, False))\n",
    "    return activations"
   ]
  },
  {
   "cell_type": "code",
   "execution_count": null,
   "metadata": {},
   "outputs": [],
   "source": []
  }
 ],
 "metadata": {
  "kernelspec": {
   "display_name": "Python 3",
   "language": "python",
   "name": "python3"
  },
  "language_info": {
   "codemirror_mode": {
    "name": "ipython",
    "version": 3
   },
   "file_extension": ".py",
   "mimetype": "text/x-python",
   "name": "python",
   "nbconvert_exporter": "python",
   "pygments_lexer": "ipython3",
   "version": "3.6.4"
  }
 },
 "nbformat": 4,
 "nbformat_minor": 1
}
